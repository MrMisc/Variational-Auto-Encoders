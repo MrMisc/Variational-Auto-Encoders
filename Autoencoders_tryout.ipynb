{
  "nbformat": 4,
  "nbformat_minor": 0,
  "metadata": {
    "colab": {
      "name": "Autoencoders.ipynb",
      "provenance": []
    },
    "kernelspec": {
      "name": "python3",
      "display_name": "Python 3"
    },
    "language_info": {
      "name": "python"
    }
  },
  "cells": [
    {
      "cell_type": "markdown",
      "metadata": {
        "id": "Oxj1V3xLm0eG"
      },
      "source": [
        "#Testing out VAE on basic shapes | Circles, rectangles, triangles"
      ]
    },
    {
      "cell_type": "markdown",
      "metadata": {
        "id": "radvl2Obm2tb"
      },
      "source": [
        "Autoencoder, generation of shapes, and information rate\n",
        "\n",
        "a. Create a database of sufficient size of 28*28 images with circles, triangles and rectangles at random locations.\n",
        "\n",
        "b. Create a suitable variational autoencoder (VAE) for the data in the database. Motivate the network configuration  (architecture, objective functions, hyperparameters) you select. \n",
        "\n",
        "c. Use your VAE to generate new dataand provide a quantitative measure of the performance of your system\n",
        "\n",
        "d. Replace your VAE with a similar but not identical system that does not use the ELBO. Instead, control the distribution of the latent layer to be iid Gaussian (eg with MMD) and add Gaussian noise with a fixed that variance you set\n",
        "\n",
        "e. Recalling that mutual information is given by $I(X;Y) = E[log\\frac{p(X,Y)}{p(X)p(Y)}]$, estimate the information passing through the latent layer, in bits. Explain what this information represents in terms of your reconstruction. \n",
        "\n",
        "f. Compare the performance of the systems, using suitable attributes and/or extensions."
      ]
    },
    {
      "cell_type": "code",
      "metadata": {
        "id": "qnGb4QW-ksDb",
        "colab": {
          "base_uri": "https://localhost:8080/"
        },
        "outputId": "b0ba5211-01c4-40a8-b26d-a9be8c8a1113"
      },
      "source": [
        "import tensorflow as tf\n",
        "from tensorflow import keras\n",
        "from tensorflow.keras import layers\n",
        "from tensorflow.keras.preprocessing.image import ImageDataGenerator, load_img, img_to_array\n",
        "from tensorflow.python.ops.numpy_ops import np_config\n",
        "np_config.enable_numpy_behavior()\n",
        "\n",
        "from keras import backend as K\n",
        "from keras.datasets import mnist\n",
        "from keras.models import Model\n",
        "from keras.layers import Conv2D, Conv2DTranspose, Input, Flatten, Dense, Lambda, Reshape\n",
        "from keras.utils import np_utils\n",
        "#from keras.utils import to_categorical\n",
        "from PIL import Image\n",
        "import numpy as np\n",
        "import os\n",
        "import cv2\n",
        "import random\n",
        "\n",
        "%load_ext tensorboard"
      ],
      "execution_count": 21,
      "outputs": [
        {
          "output_type": "stream",
          "name": "stdout",
          "text": [
            "The tensorboard extension is already loaded. To reload it, use:\n",
            "  %reload_ext tensorboard\n"
          ]
        }
      ]
    },
    {
      "cell_type": "markdown",
      "metadata": {
        "id": "Prt4xZ6BuwcQ"
      },
      "source": [
        "### Shapes"
      ]
    },
    {
      "cell_type": "code",
      "metadata": {
        "id": "pq0Z6Hfouxra"
      },
      "source": [
        "# config values\n",
        "NUM_OF_DATA = 1000\n",
        "\n",
        "WIDTH = 28\n",
        "HEIGHT = 28  #The above 3 will be used throughout\n",
        "\n",
        "WHITE = (255,255,255)\n",
        "BLACK = (0,0,0)\n",
        "\n",
        "MIN_THICKNESS = 1\n",
        "MAX_THICKNESS = 3\n",
        "###\n",
        "\n",
        "CENTER_X = WIDTH //2\n",
        "CENTER_Y = HEIGHT//2"
      ],
      "execution_count": 2,
      "outputs": []
    },
    {
      "cell_type": "code",
      "metadata": {
        "id": "Fwlx_Pu5uz0d"
      },
      "source": [
        "tri = []\n",
        "for _ in range(NUM_OF_DATA):\n",
        "    img = np.zeros((WIDTH, HEIGHT, 3), np.uint8) + 255\n",
        "\n",
        "#triangles\n",
        "    t_height = random.randint(HEIGHT//5, 4*HEIGHT//5)\n",
        "    t_width  = random.randint(WIDTH //5, 4*WIDTH //5)\n",
        "    t_dir    = random.randint(0,1) * 2 - 1\n",
        "    #Random center\n",
        "    x_bias = random.randint(t_width - WIDTH, WIDTH - t_width)//2\n",
        "    y_bias = random.randint(t_height - HEIGHT, HEIGHT - t_height)//2\n",
        "\n",
        "    t_thickness = random.randint(MIN_THICKNESS, MAX_THICKNESS)\n",
        "\n",
        "    vertices = np.array([\n",
        "        [CENTER_X + x_bias, CENTER_Y + t_height//2 * t_dir + y_bias],\n",
        "        [CENTER_X - t_width//2 + x_bias, CENTER_Y - t_height//2 * t_dir + y_bias],\n",
        "        [CENTER_X + t_width//2 + x_bias, CENTER_Y - t_height//2 * t_dir + y_bias]\n",
        "    ])\n",
        "    pts = vertices.reshape((-1, 1, 2))\n",
        "    cv2.polylines(img, [pts], isClosed = True, color = BLACK, thickness = t_thickness)\n",
        "\n",
        "    tri.append([img, (1,0,0)]) #label to indicate shape\n",
        "\n",
        "temptri = img_to_array(tri[0][0])\n"
      ],
      "execution_count": 3,
      "outputs": []
    },
    {
      "cell_type": "code",
      "metadata": {
        "id": "_RuhWaLqu6VW"
      },
      "source": [
        "rect = []\n",
        "for _ in range(NUM_OF_DATA):\n",
        "    img = np.zeros((WIDTH, HEIGHT, 3), np.uint8) + 255\n",
        "\n",
        "#rectangles\n",
        "    r_height = random.randint(HEIGHT//5, 4*HEIGHT//5)\n",
        "    r_width  = random.randint(WIDTH //5, 4*WIDTH //5)\n",
        "\n",
        "    #Random center\n",
        "    x_bias = random.randint(r_width - WIDTH, WIDTH - r_width)//2\n",
        "    y_bias = random.randint(r_height - HEIGHT, HEIGHT - r_height)//2\n",
        "\n",
        "    r_thickness = random.randint(MIN_THICKNESS, MAX_THICKNESS)\n",
        "\n",
        "    vertices = np.array([\n",
        "        [CENTER_X + r_width//2 + x_bias, CENTER_Y + r_height//2 + y_bias],\n",
        "        [CENTER_X - r_width//2 + x_bias, CENTER_Y + r_height//2 + y_bias],\n",
        "        [CENTER_X - r_width//2 + x_bias, CENTER_Y - r_height//2 + y_bias],\n",
        "        [CENTER_X + r_width//2 + x_bias, CENTER_Y - r_height//2 + y_bias]\n",
        "    ])\n",
        "    pts = vertices.reshape((-1, 1, 2))\n",
        "    cv2.polylines(img, [pts], isClosed = True, color = BLACK, thickness = r_thickness)\n",
        "\n",
        "    rect.append([img, (0,1,0)])\n",
        "\n",
        "temprectangle = img_to_array(rect[0][0])"
      ],
      "execution_count": 4,
      "outputs": []
    },
    {
      "cell_type": "code",
      "metadata": {
        "id": "HFtwAtUhu-MR"
      },
      "source": [
        "circ = []\n",
        "for _ in range(NUM_OF_DATA):\n",
        "    img = np.zeros((WIDTH, HEIGHT, 3), np.uint8) + 255\n",
        "\n",
        "#circles\n",
        "    c_rad = random.randint(max(WIDTH, HEIGHT) // 5, 2 * max(WIDTH, HEIGHT) // 5)\n",
        "\n",
        "    c_thickness = random.randint(MIN_THICKNESS, MAX_THICKNESS)\n",
        "\n",
        "    x_bias = random.randint(c_rad * 2 - WIDTH, WIDTH - c_rad * 2)//2\n",
        "    y_bias = random.randint(c_rad * 2 - HEIGHT, HEIGHT - c_rad * 2)//2\n",
        "\n",
        "    cv2.circle(img,\n",
        "        center = (CENTER_X + x_bias, CENTER_Y + y_bias),\n",
        "        radius = c_rad,\n",
        "        color = BLACK,\n",
        "        thickness = r_thickness\n",
        "    )\n",
        "\n",
        "    circ.append([img, (0,0,1)])\n",
        "\n",
        "tempcircle = img_to_array(circ[0][0])"
      ],
      "execution_count": 5,
      "outputs": []
    },
    {
      "cell_type": "code",
      "metadata": {
        "id": "tKeD1GURvCTM",
        "colab": {
          "base_uri": "https://localhost:8080/",
          "height": 284
        },
        "outputId": "03469b86-9d0c-4305-e937-02684c63a824"
      },
      "source": [
        "import matplotlib.pyplot as plt\n",
        "plt.imshow(tri[3][0])"
      ],
      "execution_count": 6,
      "outputs": [
        {
          "output_type": "execute_result",
          "data": {
            "text/plain": [
              "<matplotlib.image.AxesImage at 0x7f9f515de9d0>"
            ]
          },
          "metadata": {},
          "execution_count": 6
        },
        {
          "output_type": "display_data",
          "data": {
            "image/png": "[encoded data removed]",
            "text/plain": [
              "<Figure size 432x288 with 1 Axes>"
            ]
          },
          "metadata": {
            "needs_background": "light"
          }
        }
      ]
    },
    {
      "cell_type": "markdown",
      "metadata": {
        "id": "C27PkCFs0IKu"
      },
      "source": [
        "## Once again, we join the datasets and shuffle them"
      ]
    },
    {
      "cell_type": "markdown",
      "metadata": {
        "id": "6cUWnWwG-WKb"
      },
      "source": [
        "Rerun the cell below to create a new dataset"
      ]
    },
    {
      "cell_type": "code",
      "metadata": {
        "id": "S5mxueOL0Hp7"
      },
      "source": [
        "#tot_data = [(triangle for triangle in tri ),(circle for circle in circ), ( rectangle for rectangle in rect)]\n",
        "\n",
        "#tot_data[0]\n",
        "# import random\n",
        "# random.shuffle(tot_data)\n",
        "# for s in tot_data[:10]:\n",
        "#   print(s)\n",
        "\n",
        "tot_data = []\n",
        "for t in tri: tot_data.append([cv2.cvtColor(t[0],cv2.COLOR_BGR2GRAY),t[1]])\n",
        "for r in rect: tot_data.append([cv2.cvtColor(r[0],cv2.COLOR_BGR2GRAY),r[1]])\n",
        "for c in circ: tot_data.append([cv2.cvtColor(c[0],cv2.COLOR_BGR2GRAY),c[1]])\n",
        "random.shuffle(tot_data)\n",
        "#tot_data[0]\n",
        "\n",
        "data_x = []\n",
        "data_y = []\n",
        "for d in tot_data:\n",
        "    data_x.append(d[0])\n",
        "    data_y.append(d[1])\n",
        "\n",
        "# xx = [data for data in tot_data[:][0]]\n",
        "# #print(xx)\n",
        "# #print(data_x[:10])\n",
        "# #print(data_x[0], data_y[0])\n",
        "# np.array(data_x).shape\n",
        "# data_y"
      ],
      "execution_count": 7,
      "outputs": []
    },
    {
      "cell_type": "code",
      "metadata": {
        "id": "Gq6ZqucY0MkF"
      },
      "source": [
        "number_of_classes = 3"
      ],
      "execution_count": null,
      "outputs": []
    },
    {
      "cell_type": "code",
      "metadata": {
        "id": "HSpEXAjd8ARp"
      },
      "source": [
        "TRAIN = 1200\n",
        "TEST = NUM_OF_DATA*3 - TRAIN\n",
        "x = np.array(data_x[:TRAIN]).reshape(TRAIN, 28, 28, 1)\n",
        "y = np.array(data_y[:TRAIN])+0.\n",
        "xt = np.array(data_x[TRAIN:]).reshape(TEST, 28, 28, 1)\n",
        "yt = np.array(data_y[TRAIN:])+0.\n",
        "print(x.shape, y.shape)\n",
        "print(xt.shape, yt.shape)"
      ],
      "execution_count": null,
      "outputs": []
    },
    {
      "cell_type": "code",
      "metadata": {
        "id": "x5tTa41M8NPb"
      },
      "source": [
        "import datetime\n",
        "# rm -rf ./logs/\n",
        "\n",
        "train_dataset = tf.data.Dataset.from_tensor_slices((x, y)) #x and y are training datasets to be defined beforehand\n",
        "test_dataset = tf.data.Dataset.from_tensor_slices((xt, yt)) #xt and yt are test datasets to be defined beforehand\n",
        "\n",
        "print(train_dataset)"
      ],
      "execution_count": null,
      "outputs": []
    },
    {
      "cell_type": "markdown",
      "metadata": {
        "id": "l-tESB1e9dy9"
      },
      "source": [
        "Let us take a number of images from the dataset of images we have (essentially without the groundstruth labels), and run them through a VAE"
      ]
    },
    {
      "cell_type": "code",
      "metadata": {
        "colab": {
          "base_uri": "https://localhost:8080/",
          "height": 284
        },
        "id": "YTBEemOJ8N3o",
        "outputId": "b0f1471c-bc6f-444f-82f3-8aa4866bb39a"
      },
      "source": [
        "plt.imshow(data_x[2])   #Eg of one of our images"
      ],
      "execution_count": 11,
      "outputs": [
        {
          "output_type": "execute_result",
          "data": {
            "text/plain": [
              "<matplotlib.image.AxesImage at 0x7f9f4cf54510>"
            ]
          },
          "metadata": {},
          "execution_count": 11
        },
        {
          "output_type": "display_data",
          "data": {
            "image/png": "[encoded data removed]",
            "text/plain": [
              "<Figure size 432x288 with 1 Axes>"
            ]
          },
          "metadata": {
            "needs_background": "light"
          }
        }
      ]
    },
    {
      "cell_type": "markdown",
      "metadata": {
        "id": "HWR5rDIMHW9q"
      },
      "source": [
        "### Sample Code 2 | but with MNIST dataset | Sourced from bnsreenu on github in \"python_for_microscopists/blob/master/178_179_variational_autoencoders_mnist\""
      ]
    },
    {
      "cell_type": "markdown",
      "metadata": {
        "id": "FZoU09-i8g1g"
      },
      "source": [
        "An autoencoder takes input data (x), reduces its dimensionality in the encoder segment, determines its distinguishing features inside the bottleneck (the dimensions of which we have initially set to 2 below), and attempts to recreate the input ( or a denoised input) through the decoder (essentially expanding it back to its original dimensions)."
      ]
    },
    {
      "cell_type": "markdown",
      "metadata": {
        "id": "N7zfF6fcIWpD"
      },
      "source": [
        "Below is just how this would be done if we were using MNIST data, which we are not"
      ]
    },
    {
      "cell_type": "code",
      "metadata": {
        "id": "F9YbHZcY-Ew-"
      },
      "source": [
        "# Load MNIST\n",
        "(x_train, y_train), (x_test, y_test) = mnist.load_data()\n",
        "\n",
        "#Normalize and reshape ============\n",
        "\n",
        "#Norm.\n",
        "x_train = x_train.astype('float32')\n",
        "x_test = x_test.astype('float32')\n",
        "x_train = x_train / 255\n",
        "x_test = x_test / 255"
      ],
      "execution_count": 12,
      "outputs": []
    },
    {
      "cell_type": "code",
      "metadata": {
        "colab": {
          "base_uri": "https://localhost:8080/"
        },
        "id": "pubOCFx3-Fmc",
        "outputId": "f821d28e-40b6-488a-bf91-4f86ebb6d50e"
      },
      "source": [
        "np.max(x_train)"
      ],
      "execution_count": 17,
      "outputs": [
        {
          "output_type": "execute_result",
          "data": {
            "text/plain": [
              "1.0"
            ]
          },
          "metadata": {},
          "execution_count": 17
        }
      ]
    },
    {
      "cell_type": "code",
      "metadata": {
        "colab": {
          "base_uri": "https://localhost:8080/"
        },
        "id": "eLnFSDUQ-Jna",
        "outputId": "c6510b50-76ef-4cd6-b2e8-95657e2e8ed0"
      },
      "source": [
        "np.max(data_x[1])"
      ],
      "execution_count": 18,
      "outputs": [
        {
          "output_type": "execute_result",
          "data": {
            "text/plain": [
              "255"
            ]
          },
          "metadata": {},
          "execution_count": 18
        }
      ]
    },
    {
      "cell_type": "code",
      "metadata": {
        "id": "7W65FWJFIVtp",
        "colab": {
          "base_uri": "https://localhost:8080/",
          "height": 326
        },
        "outputId": "9a214840-0907-41eb-fa36-be45a5ea44ce"
      },
      "source": [
        "\n",
        "\n",
        "# Reshape \n",
        "img_width  = x_train.shape[1]\n",
        "img_height = x_train.shape[2]\n",
        "num_channels = 1 #MNIST --> grey scale so 1 channel\n",
        "x_train = x_train.reshape(x_train.shape[0], img_height, img_width, num_channels)\n",
        "x_test = x_test.reshape(x_test.shape[0], img_height, img_width, num_channels)\n",
        "input_shape = (img_height, img_width, num_channels)\n",
        "# ========================\n",
        "#View a few images\n",
        "plt.figure(1)\n",
        "plt.subplot(221)\n",
        "plt.imshow(x_train[42][:,:,0])\n",
        "\n",
        "plt.subplot(222)\n",
        "plt.imshow(x_train[420][:,:,0])\n",
        "\n",
        "plt.subplot(223)\n",
        "plt.imshow(x_train[4200][:,:,0])\n",
        "\n",
        "plt.subplot(224)\n",
        "plt.imshow(x_train[42000][:,:,0])\n",
        "plt.show()"
      ],
      "execution_count": 8,
      "outputs": [
        {
          "output_type": "stream",
          "name": "stdout",
          "text": [
            "Downloading data from https://storage.googleapis.com/tensorflow/tf-keras-datasets/mnist.npz\n",
            "11493376/11490434 [==============================] - 0s 0us/step\n",
            "11501568/11490434 [==============================] - 0s 0us/step\n"
          ]
        },
        {
          "output_type": "display_data",
          "data": {
            "image/png": "[encoded data removed]",
            "text/plain": [
              "<Figure size 432x288 with 4 Axes>"
            ]
          },
          "metadata": {
            "needs_background": "light"
          }
        }
      ]
    },
    {
      "cell_type": "code",
      "metadata": {
        "id": "TcV4pMsvs2KW",
        "colab": {
          "base_uri": "https://localhost:8080/",
          "height": 1000
        },
        "outputId": "6176b02e-b95d-4255-83b4-c92a425209ad"
      },
      "source": [
        "latent_dim = 2 # Number of latent dim parameters\n",
        "\n",
        "input_img = Input(shape=input_shape, name='encoder_input')\n",
        "x = Conv2D(32, 3, padding='same', activation='relu')(input_img)\n",
        "x = Conv2D(64, 3, padding='same', activation='relu',strides=(2, 2))(x)\n",
        "x = Conv2D(64, 3, padding='same', activation='relu')(x)\n",
        "x = Conv2D(64, 3, padding='same', activation='relu')(x)\n",
        "\n",
        "conv_shape = K.int_shape(x) #Shape of conv to be provided to decoder\n",
        "#Flatten\n",
        "x = Flatten()(x)\n",
        "x = Dense(32, activation='relu')(x)\n",
        "\n",
        "# Two outputs, for latent mean and log variance (std. dev.)\n",
        "#Use these to sample random variables in latent space to which inputs are mapped. \n",
        "z_mu = Dense(latent_dim, name='latent_mu')(x)   #Mean values of encoded input\n",
        "z_sigma = Dense(latent_dim, name='latent_sigma')(x)  #Std dev. (variance) of encoded input\n",
        "\n",
        "#Combine the z layers mu and sigma to a sampling layer and outsource the sampling with epsilon | Reparameterization trick\n",
        "def sample_z(args):\n",
        "  z_mu, z_sigma = args\n",
        "  eps = K.random_normal(shape=(K.shape(z_mu)[0], K.int_shape(z_mu)[1]))\n",
        "  return z_mu + K.exp(z_sigma / 2) * eps\n",
        "\n",
        "z = Lambda(sample_z, output_shape=(latent_dim, ), name='z')([z_mu, z_sigma])\n",
        "\n",
        "# Define and summarize encoder model.\n",
        "encoder = Model(input_img, [z_mu, z_sigma, z], name='encoder')\n",
        "print(encoder.summary())\n",
        "\n",
        "# ================= ###########\n",
        "# Decoder\n",
        "#\n",
        "# ================= #################\n",
        "\n",
        "# decoder takes the latent vector as input\n",
        "decoder_input = Input(shape=(latent_dim, ), name='decoder_input')\n",
        "\n",
        "# Need to start with a shape that can be remapped to original image shape as\n",
        "#we want our final utput to be same shape original input.\n",
        "#So, add dense layer with dimensions that can be reshaped to desired output shape\n",
        "x = Dense(conv_shape[1]*conv_shape[2]*conv_shape[3], activation='relu')(decoder_input)\n",
        "# reshape to the shape of last conv. layer in the encoder, so we can \n",
        "x = Reshape((conv_shape[1], conv_shape[2], conv_shape[3]))(x)\n",
        "# upscale (conv2D transpose) back to original shape\n",
        "# use Conv2DTranspose to reverse the conv layers defined in the encoder\n",
        "x = Conv2DTranspose(32, 3, padding='same', activation='relu',strides=(2, 2))(x)\n",
        "#Can add more conv2DTranspose layers, if desired. \n",
        "#Using sigmoid activation\n",
        "x = Conv2DTranspose(num_channels, 3, padding='same', activation='sigmoid', name='decoder_output')(x)\n",
        "\n",
        "# Define and summarize decoder model\n",
        "decoder = Model(decoder_input, x, name='decoder')\n",
        "decoder.summary()\n",
        "\n",
        "# apply the decoder to the latent sample \n",
        "z_decoded = decoder(z)\n",
        "\n",
        "\n",
        "# =========================\n",
        "#Define custom loss\n",
        "#VAE is trained using two loss functions reconstruction loss and KL divergence\n",
        "#Let us add a class to define a custom layer with loss\n",
        "class CustomLayer(keras.layers.Layer):\n",
        "\n",
        "    def vae_loss(self, x, z_decoded):\n",
        "        x = K.flatten(x)\n",
        "        z_decoded = K.flatten(z_decoded)\n",
        "        \n",
        "        # Reconstruction loss (as we used sigmoid activation we can use binarycrossentropy)\n",
        "        recon_loss = keras.metrics.binary_crossentropy(x, z_decoded)\n",
        "        \n",
        "        # KL divergence\n",
        "        kl_loss = -5e-4 * K.mean(1 + z_sigma - K.square(z_mu) - K.exp(z_sigma), axis=-1)\n",
        "        return K.mean(recon_loss + kl_loss)\n",
        "\n",
        "    # add custom loss to the class\n",
        "    def call(self, inputs):\n",
        "        x = inputs[0]\n",
        "        z_decoded = inputs[1]\n",
        "        loss = self.vae_loss(x, z_decoded)\n",
        "        self.add_loss(loss, inputs=inputs)\n",
        "        return x\n",
        "\n",
        "# apply the custom loss to the input images and the decoded latent distribution sample\n",
        "y = CustomLayer()([input_img, z_decoded])\n",
        "# y is basically the original image after encoding input img to mu, sigma, z\n",
        "# and decoding sampled z values.\n",
        "#This will be used as output for vae\n",
        "\n",
        "# =================\n",
        "# VAE \n",
        "# =================\n",
        "vae = Model(input_img, y, name='vae')\n",
        "\n",
        "# Compile VAE\n",
        "vae.compile(optimizer='adam', loss=None)\n",
        "vae.summary()\n",
        "\n",
        "# Train autoencoder\n",
        "vae.fit(x_train, None, epochs = 10, batch_size = 32, validation_split = 0.2)\n",
        "\n",
        "# =================\n",
        "# Visualize results\n",
        "# =================\n",
        "#Visualize inputs mapped to the Latent space\n",
        "#Remember that we have encoded inputs to latent space dimension = 2. \n",
        "#Extract z_mu --> first parameter in the result of encoder prediction representing mean\n",
        "\n",
        "mu, _, _ = encoder.predict(x_test)\n",
        "#Plot dim1 and dim2 for mu\n",
        "plt.figure(figsize=(10, 10))\n",
        "plt.scatter(mu[:, 0], mu[:, 1], c=y_test, cmap='brg')\n",
        "plt.xlabel('dim 1')\n",
        "plt.ylabel('dim 2')\n",
        "plt.colorbar()\n",
        "plt.show()\n",
        "\n",
        "\n",
        "# Visualize images\n",
        "#Single decoded image with random input latent vector (of size 1x2)\n",
        "#Latent space range is about -5 to 5 so pick random values within this range\n",
        "#Try starting with -1, 1 and slowly go up to -1.5,1.5 and see how it morphs from \n",
        "#one image to the other.\n",
        "sample_vector = np.array([[1,-1]])\n",
        "decoded_example = decoder.predict(sample_vector)\n",
        "decoded_example_reshaped = decoded_example.reshape(img_width, img_height)\n",
        "plt.imshow(decoded_example_reshaped)\n",
        "\n",
        "#Let us automate this process by generating multiple images and plotting\n",
        "#Use decoder to generate images by tweaking latent variables from the latent space\n",
        "#Create a grid of defined size with zeros. \n",
        "#Take sample from some defined linear space. In this example range [-4, 4]\n",
        "#Feed it to the decoder and update zeros in the figure with output.\n",
        "\n",
        "\n",
        "n = 20  # generate 15x15 digits\n",
        "figure = np.zeros((img_width * n, img_height * n, num_channels))\n",
        "\n",
        "#Create a Grid of latent variables, to be provided as inputs to decoder.predict\n",
        "#Creating vectors within range -5 to 5 as that seems to be the range in latent space\n",
        "grid_x = np.linspace(-5, 5, n)\n",
        "grid_y = np.linspace(-5, 5, n)[::-1]\n",
        "\n",
        "# decoder for each square in the grid\n",
        "for i, yi in enumerate(grid_y):\n",
        "    for j, xi in enumerate(grid_x):\n",
        "        z_sample = np.array([[xi, yi]])\n",
        "        x_decoded = decoder.predict(z_sample)\n",
        "        digit = x_decoded[0].reshape(img_width, img_height, num_channels)\n",
        "        figure[i * img_width: (i + 1) * img_width,\n",
        "               j * img_height: (j + 1) * img_height] = digit\n",
        "\n",
        "plt.figure(figsize=(10, 10))\n",
        "#Reshape for visualization\n",
        "fig_shape = np.shape(figure)\n",
        "figure = figure.reshape((fig_shape[0], fig_shape[1]))\n",
        "\n",
        "plt.imshow(figure, cmap='gnuplot2')\n",
        "plt.show()  "
      ],
      "execution_count": 22,
      "outputs": [
        {
          "output_type": "stream",
          "name": "stdout",
          "text": [
            "Model: \"encoder\"\n",
            "__________________________________________________________________________________________________\n",
            "Layer (type)                    Output Shape         Param #     Connected to                     \n",
            "==================================================================================================\n",
            "encoder_input (InputLayer)      [(None, 28, 28, 1)]  0                                            \n",
            "__________________________________________________________________________________________________\n",
            "conv2d_4 (Conv2D)               (None, 28, 28, 32)   320         encoder_input[0][0]              \n",
            "__________________________________________________________________________________________________\n",
            "conv2d_5 (Conv2D)               (None, 14, 14, 64)   18496       conv2d_4[0][0]                   \n",
            "__________________________________________________________________________________________________\n",
            "conv2d_6 (Conv2D)               (None, 14, 14, 64)   36928       conv2d_5[0][0]                   \n",
            "__________________________________________________________________________________________________\n",
            "conv2d_7 (Conv2D)               (None, 14, 14, 64)   36928       conv2d_6[0][0]                   \n",
            "__________________________________________________________________________________________________\n",
            "flatten_1 (Flatten)             (None, 12544)        0           conv2d_7[0][0]                   \n",
            "__________________________________________________________________________________________________\n",
            "dense_1 (Dense)                 (None, 32)           401440      flatten_1[0][0]                  \n",
            "__________________________________________________________________________________________________\n",
            "latent_mu (Dense)               (None, 2)            66          dense_1[0][0]                    \n",
            "__________________________________________________________________________________________________\n",
            "latent_sigma (Dense)            (None, 2)            66          dense_1[0][0]                    \n",
            "__________________________________________________________________________________________________\n",
            "z (Lambda)                      (None, 2)            0           latent_mu[0][0]                  \n",
            "                                                                 latent_sigma[0][0]               \n",
            "==================================================================================================\n",
            "Total params: 494,244\n",
            "Trainable params: 494,244\n",
            "Non-trainable params: 0\n",
            "__________________________________________________________________________________________________\n",
            "None\n",
            "Model: \"decoder\"\n",
            "_________________________________________________________________\n",
            "Layer (type)                 Output Shape              Param #   \n",
            "=================================================================\n",
            "decoder_input (InputLayer)   [(None, 2)]               0         \n",
            "_________________________________________________________________\n",
            "dense_2 (Dense)              (None, 12544)             37632     \n",
            "_________________________________________________________________\n",
            "reshape (Reshape)            (None, 14, 14, 64)        0         \n",
            "_________________________________________________________________\n",
            "conv2d_transpose (Conv2DTran (None, 28, 28, 32)        18464     \n",
            "_________________________________________________________________\n",
            "decoder_output (Conv2DTransp (None, 28, 28, 1)         289       \n",
            "=================================================================\n",
            "Total params: 56,385\n",
            "Trainable params: 56,385\n",
            "Non-trainable params: 0\n",
            "_________________________________________________________________\n"
          ]
        },
        {
          "output_type": "error",
          "ename": "TypeError",
          "evalue": "ignored",
          "traceback": [
            "\u001b[0;31m---------------------------------------------------------------------------\u001b[0m",
            "\u001b[0;31mTypeError\u001b[0m                                 Traceback (most recent call last)",
            "\u001b[0;32m<ipython-input-22-a8e341a2b983>\u001b[0m in \u001b[0;36m<module>\u001b[0;34m()\u001b[0m\n\u001b[1;32m     84\u001b[0m \u001b[0;34m\u001b[0m\u001b[0m\n\u001b[1;32m     85\u001b[0m \u001b[0;31m# apply the custom loss to the input images and the decoded latent distribution sample\u001b[0m\u001b[0;34m\u001b[0m\u001b[0;34m\u001b[0m\u001b[0;34m\u001b[0m\u001b[0m\n\u001b[0;32m---> 86\u001b[0;31m \u001b[0my\u001b[0m \u001b[0;34m=\u001b[0m \u001b[0mCustomLayer\u001b[0m\u001b[0;34m(\u001b[0m\u001b[0;34m)\u001b[0m\u001b[0;34m(\u001b[0m\u001b[0;34m[\u001b[0m\u001b[0minput_img\u001b[0m\u001b[0;34m,\u001b[0m \u001b[0mz_decoded\u001b[0m\u001b[0;34m]\u001b[0m\u001b[0;34m)\u001b[0m\u001b[0;34m\u001b[0m\u001b[0;34m\u001b[0m\u001b[0m\n\u001b[0m\u001b[1;32m     87\u001b[0m \u001b[0;31m# y is basically the original image after encoding input img to mu, sigma, z\u001b[0m\u001b[0;34m\u001b[0m\u001b[0;34m\u001b[0m\u001b[0;34m\u001b[0m\u001b[0m\n\u001b[1;32m     88\u001b[0m \u001b[0;31m# and decoding sampled z values.\u001b[0m\u001b[0;34m\u001b[0m\u001b[0;34m\u001b[0m\u001b[0;34m\u001b[0m\u001b[0m\n",
            "\u001b[0;32m/usr/local/lib/python3.7/dist-packages/keras/engine/base_layer.py\u001b[0m in \u001b[0;36m__call__\u001b[0;34m(self, *args, **kwargs)\u001b[0m\n\u001b[1;32m    975\u001b[0m     \u001b[0;32mif\u001b[0m \u001b[0m_in_functional_construction_mode\u001b[0m\u001b[0;34m(\u001b[0m\u001b[0mself\u001b[0m\u001b[0;34m,\u001b[0m \u001b[0minputs\u001b[0m\u001b[0;34m,\u001b[0m \u001b[0margs\u001b[0m\u001b[0;34m,\u001b[0m \u001b[0mkwargs\u001b[0m\u001b[0;34m,\u001b[0m \u001b[0minput_list\u001b[0m\u001b[0;34m)\u001b[0m\u001b[0;34m:\u001b[0m\u001b[0;34m\u001b[0m\u001b[0;34m\u001b[0m\u001b[0m\n\u001b[1;32m    976\u001b[0m       return self._functional_construction_call(inputs, args, kwargs,\n\u001b[0;32m--> 977\u001b[0;31m                                                 input_list)\n\u001b[0m\u001b[1;32m    978\u001b[0m \u001b[0;34m\u001b[0m\u001b[0m\n\u001b[1;32m    979\u001b[0m     \u001b[0;31m# Maintains info about the `Layer.call` stack.\u001b[0m\u001b[0;34m\u001b[0m\u001b[0;34m\u001b[0m\u001b[0;34m\u001b[0m\u001b[0m\n",
            "\u001b[0;32m/usr/local/lib/python3.7/dist-packages/keras/engine/base_layer.py\u001b[0m in \u001b[0;36m_functional_construction_call\u001b[0;34m(self, inputs, args, kwargs, input_list)\u001b[0m\n\u001b[1;32m   1113\u001b[0m       \u001b[0;31m# Check input assumptions set after layer building, e.g. input shape.\u001b[0m\u001b[0;34m\u001b[0m\u001b[0;34m\u001b[0m\u001b[0;34m\u001b[0m\u001b[0m\n\u001b[1;32m   1114\u001b[0m       outputs = self._keras_tensor_symbolic_call(\n\u001b[0;32m-> 1115\u001b[0;31m           inputs, input_masks, args, kwargs)\n\u001b[0m\u001b[1;32m   1116\u001b[0m \u001b[0;34m\u001b[0m\u001b[0m\n\u001b[1;32m   1117\u001b[0m       \u001b[0;32mif\u001b[0m \u001b[0moutputs\u001b[0m \u001b[0;32mis\u001b[0m \u001b[0;32mNone\u001b[0m\u001b[0;34m:\u001b[0m\u001b[0;34m\u001b[0m\u001b[0;34m\u001b[0m\u001b[0m\n",
            "\u001b[0;32m/usr/local/lib/python3.7/dist-packages/keras/engine/base_layer.py\u001b[0m in \u001b[0;36m_keras_tensor_symbolic_call\u001b[0;34m(self, inputs, input_masks, args, kwargs)\u001b[0m\n\u001b[1;32m    846\u001b[0m       \u001b[0;32mreturn\u001b[0m \u001b[0mtf\u001b[0m\u001b[0;34m.\u001b[0m\u001b[0mnest\u001b[0m\u001b[0;34m.\u001b[0m\u001b[0mmap_structure\u001b[0m\u001b[0;34m(\u001b[0m\u001b[0mkeras_tensor\u001b[0m\u001b[0;34m.\u001b[0m\u001b[0mKerasTensor\u001b[0m\u001b[0;34m,\u001b[0m \u001b[0moutput_signature\u001b[0m\u001b[0;34m)\u001b[0m\u001b[0;34m\u001b[0m\u001b[0;34m\u001b[0m\u001b[0m\n\u001b[1;32m    847\u001b[0m     \u001b[0;32melse\u001b[0m\u001b[0;34m:\u001b[0m\u001b[0;34m\u001b[0m\u001b[0;34m\u001b[0m\u001b[0m\n\u001b[0;32m--> 848\u001b[0;31m       \u001b[0;32mreturn\u001b[0m \u001b[0mself\u001b[0m\u001b[0;34m.\u001b[0m\u001b[0m_infer_output_signature\u001b[0m\u001b[0;34m(\u001b[0m\u001b[0minputs\u001b[0m\u001b[0;34m,\u001b[0m \u001b[0margs\u001b[0m\u001b[0;34m,\u001b[0m \u001b[0mkwargs\u001b[0m\u001b[0;34m,\u001b[0m \u001b[0minput_masks\u001b[0m\u001b[0;34m)\u001b[0m\u001b[0;34m\u001b[0m\u001b[0;34m\u001b[0m\u001b[0m\n\u001b[0m\u001b[1;32m    849\u001b[0m \u001b[0;34m\u001b[0m\u001b[0m\n\u001b[1;32m    850\u001b[0m   \u001b[0;32mdef\u001b[0m \u001b[0m_infer_output_signature\u001b[0m\u001b[0;34m(\u001b[0m\u001b[0mself\u001b[0m\u001b[0;34m,\u001b[0m \u001b[0minputs\u001b[0m\u001b[0;34m,\u001b[0m \u001b[0margs\u001b[0m\u001b[0;34m,\u001b[0m \u001b[0mkwargs\u001b[0m\u001b[0;34m,\u001b[0m \u001b[0minput_masks\u001b[0m\u001b[0;34m)\u001b[0m\u001b[0;34m:\u001b[0m\u001b[0;34m\u001b[0m\u001b[0;34m\u001b[0m\u001b[0m\n",
            "\u001b[0;32m/usr/local/lib/python3.7/dist-packages/keras/engine/base_layer.py\u001b[0m in \u001b[0;36m_infer_output_signature\u001b[0;34m(self, inputs, args, kwargs, input_masks)\u001b[0m\n\u001b[1;32m    886\u001b[0m           \u001b[0mself\u001b[0m\u001b[0;34m.\u001b[0m\u001b[0m_maybe_build\u001b[0m\u001b[0;34m(\u001b[0m\u001b[0minputs\u001b[0m\u001b[0;34m)\u001b[0m\u001b[0;34m\u001b[0m\u001b[0;34m\u001b[0m\u001b[0m\n\u001b[1;32m    887\u001b[0m           \u001b[0minputs\u001b[0m \u001b[0;34m=\u001b[0m \u001b[0mself\u001b[0m\u001b[0;34m.\u001b[0m\u001b[0m_maybe_cast_inputs\u001b[0m\u001b[0;34m(\u001b[0m\u001b[0minputs\u001b[0m\u001b[0;34m)\u001b[0m\u001b[0;34m\u001b[0m\u001b[0;34m\u001b[0m\u001b[0m\n\u001b[0;32m--> 888\u001b[0;31m           \u001b[0moutputs\u001b[0m \u001b[0;34m=\u001b[0m \u001b[0mcall_fn\u001b[0m\u001b[0;34m(\u001b[0m\u001b[0minputs\u001b[0m\u001b[0;34m,\u001b[0m \u001b[0;34m*\u001b[0m\u001b[0margs\u001b[0m\u001b[0;34m,\u001b[0m \u001b[0;34m**\u001b[0m\u001b[0mkwargs\u001b[0m\u001b[0;34m)\u001b[0m\u001b[0;34m\u001b[0m\u001b[0;34m\u001b[0m\u001b[0m\n\u001b[0m\u001b[1;32m    889\u001b[0m \u001b[0;34m\u001b[0m\u001b[0m\n\u001b[1;32m    890\u001b[0m         \u001b[0mself\u001b[0m\u001b[0;34m.\u001b[0m\u001b[0m_handle_activity_regularization\u001b[0m\u001b[0;34m(\u001b[0m\u001b[0minputs\u001b[0m\u001b[0;34m,\u001b[0m \u001b[0moutputs\u001b[0m\u001b[0;34m)\u001b[0m\u001b[0;34m\u001b[0m\u001b[0;34m\u001b[0m\u001b[0m\n",
            "\u001b[0;32m/usr/local/lib/python3.7/dist-packages/tensorflow/python/autograph/impl/api.py\u001b[0m in \u001b[0;36mwrapper\u001b[0;34m(*args, **kwargs)\u001b[0m\n\u001b[1;32m    693\u001b[0m       \u001b[0;32mexcept\u001b[0m \u001b[0mException\u001b[0m \u001b[0;32mas\u001b[0m \u001b[0me\u001b[0m\u001b[0;34m:\u001b[0m  \u001b[0;31m# pylint:disable=broad-except\u001b[0m\u001b[0;34m\u001b[0m\u001b[0;34m\u001b[0m\u001b[0m\n\u001b[1;32m    694\u001b[0m         \u001b[0;32mif\u001b[0m \u001b[0mhasattr\u001b[0m\u001b[0;34m(\u001b[0m\u001b[0me\u001b[0m\u001b[0;34m,\u001b[0m \u001b[0;34m'ag_error_metadata'\u001b[0m\u001b[0;34m)\u001b[0m\u001b[0;34m:\u001b[0m\u001b[0;34m\u001b[0m\u001b[0;34m\u001b[0m\u001b[0m\n\u001b[0;32m--> 695\u001b[0;31m           \u001b[0;32mraise\u001b[0m \u001b[0me\u001b[0m\u001b[0;34m.\u001b[0m\u001b[0mag_error_metadata\u001b[0m\u001b[0;34m.\u001b[0m\u001b[0mto_exception\u001b[0m\u001b[0;34m(\u001b[0m\u001b[0me\u001b[0m\u001b[0;34m)\u001b[0m\u001b[0;34m\u001b[0m\u001b[0;34m\u001b[0m\u001b[0m\n\u001b[0m\u001b[1;32m    696\u001b[0m         \u001b[0;32melse\u001b[0m\u001b[0;34m:\u001b[0m\u001b[0;34m\u001b[0m\u001b[0;34m\u001b[0m\u001b[0m\n\u001b[1;32m    697\u001b[0m           \u001b[0;32mraise\u001b[0m\u001b[0;34m\u001b[0m\u001b[0;34m\u001b[0m\u001b[0m\n",
            "\u001b[0;31mTypeError\u001b[0m: in user code:\n\n    <ipython-input-22-a8e341a2b983>:81 call  *\n        loss = self.vae_loss(x, z_decoded)\n    <ipython-input-22-a8e341a2b983>:74 vae_loss  *\n        kl_loss = -5e-4 * K.mean(1 + z_sigma - K.square(z_mu) - K.exp(z_sigma), axis=-1)\n    /usr/local/lib/python3.7/dist-packages/tensorflow/python/ops/math_ops.py:1399 r_binary_op_wrapper\n        y, x = maybe_promote_tensors(y, x)\n    /usr/local/lib/python3.7/dist-packages/tensorflow/python/ops/math_ops.py:1338 maybe_promote_tensors\n        *[_maybe_get_dtype(x) for x in nest.flatten(tensors)])\n    /usr/local/lib/python3.7/dist-packages/tensorflow/python/ops/numpy_ops/np_dtypes.py:116 _result_type\n        dtype = np.result_type(*arrays_and_dtypes)\n    <__array_function__ internals>:6 result_type\n        \n\n    TypeError: Cannot interpret '<KerasTensor: shape=(None, 2) dtype=float32 (created by layer 'latent_sigma')>' as a data type\n"
          ]
        }
      ]
    },
    {
      "cell_type": "code",
      "metadata": {
        "id": "pFmMwnPh82Ns"
      },
      "source": [
        ""
      ],
      "execution_count": null,
      "outputs": []
    }
  ]
}