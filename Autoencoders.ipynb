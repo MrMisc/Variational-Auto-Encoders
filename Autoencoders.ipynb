{
  "nbformat": 4,
  "nbformat_minor": 0,
  "metadata": {
    "colab": {
      "name": "Autoencoders.ipynb",
      "provenance": []
    },
    "kernelspec": {
      "name": "python3",
      "display_name": "Python 3"
    },
    "language_info": {
      "name": "python"
    }
  },
  "cells": [
    {
      "cell_type": "markdown",
      "metadata": {
        "id": "nhkBFQ5olGCn"
      },
      "source": [
        "#Problem 1"
      ]
    },
    {
      "cell_type": "markdown",
      "metadata": {
        "id": "Uabdwg6FlVtD"
      },
      "source": [
        "Autoencoder, generative modeling, and information rate\n",
        "\n",
        "a. Create 3D data that are uniformly distributed over the surface of a cube\n",
        "\n",
        "b. Create an encoder with squared error objective function with a settable number of neurons in the latent layer (bottleneck). Motivate the network configuration you select and provide a probabilistic interpretation of the objective function. \n",
        "\n",
        "c. Include in your method a suitable method to control the distribution of the latent (bottleneck) variable. (You don't want the latent variable to blow up)\n",
        "\n",
        "d. Add iid Gaussian noise to the latent (bottleneck) variable with a settable SNR (ratio of variance of variable = signal over variance of noise)\n",
        "\n",
        "e. Recalling that the mutual information in bits is $I(X;Y) = E[log\\frac{p(X,Y)}{p(X)p(Y)}]$, estimate or bound the information in bits passing through the latent layer for your settings at a particular SNR. Explain what this information rate represents for your reconstruction.\n",
        "\n",
        "f. Discuss the attributes of the reconstruction that you obtain at various SNRs and dimensionalities of the latent vector (select interesting settings).\n",
        "\n",
        "g. Create a generative system from your autoencoder, and quantify its generative performance\n",
        "\n",
        "h. Extend your autoencoder study with an interesting direction of your choice\n",
        "\n"
      ]
    },
    {
      "cell_type": "markdown",
      "metadata": {
        "id": "tuzRgy0smzSh"
      },
      "source": [
        "## OR"
      ]
    },
    {
      "cell_type": "markdown",
      "metadata": {
        "id": "Oxj1V3xLm0eG"
      },
      "source": [
        "#Problem 2"
      ]
    },
    {
      "cell_type": "markdown",
      "metadata": {
        "id": "radvl2Obm2tb"
      },
      "source": [
        "Autoencoder, generation of shapes, and information rate\n",
        "\n",
        "a. Create a database of sufficient size of 28*28 images with circles, triangles and rectangles at random locations.\n",
        "\n",
        "b. Create a suitable variational autoencoder (VAE) for the data in the database. Motivate the network configuration  (architecture, objective functions, hyperparameters) you select. \n",
        "\n",
        "c. Use your VAE to generate new dataand provide a quantitative measure of the performance of your system\n",
        "\n",
        "d. Replace your VAE with a similar but not identical system that does not use the ELBO. Instead, control the distribution of the latent layer to be iid Gaussian (eg with MMD) and add Gaussian noise with a fixed that variance you set\n",
        "\n",
        "e. Recalling that mutual information is given by $I(X;Y) = E[log\\frac{p(X,Y)}{p(X)p(Y)}]$, estimate the information passing through the latent layer, in bits. Explain what this information represents in terms of your reconstruction. \n",
        "\n",
        "f. Compare the performance of the systems, using suitable attributes and/or extensions."
      ]
    },
    {
      "cell_type": "code",
      "metadata": {
        "id": "qnGb4QW-ksDb",
        "colab": {
          "base_uri": "https://localhost:8080/"
        },
        "outputId": "88ed360b-eec5-4839-dcb9-77207e5bc44a"
      },
      "source": [
        "import tensorflow as tf\n",
        "from tensorflow import keras\n",
        "from tensorflow.keras import layers\n",
        "from tensorflow.keras.preprocessing.image import ImageDataGenerator, load_img, img_to_array\n",
        "from tensorflow.python.ops.numpy_ops import np_config\n",
        "np_config.enable_numpy_behavior()\n",
        "\n",
        "from keras import backend as K\n",
        "from keras.datasets import mnist\n",
        "from keras.models import Sequential\n",
        "from keras.layers import Dense\n",
        "from keras.layers import Dropout\n",
        "from keras.layers import BatchNormalization\n",
        "from keras.layers import Activation\n",
        "from keras.layers import Flatten\n",
        "from keras.layers.convolutional import Conv2D\n",
        "from keras.layers.convolutional import MaxPooling2D\n",
        "from keras.utils import np_utils\n",
        "#from keras.utils import to_categorical\n",
        "from PIL import Image\n",
        "import numpy as np\n",
        "import os\n",
        "import cv2\n",
        "import random\n",
        "\n",
        "%load_ext tensorboard"
      ],
      "execution_count": 10,
      "outputs": [
        {
          "output_type": "stream",
          "name": "stdout",
          "text": [
            "The tensorboard extension is already loaded. To reload it, use:\n",
            "  %reload_ext tensorboard\n"
          ]
        }
      ]
    },
    {
      "cell_type": "markdown",
      "metadata": {
        "id": "Prt4xZ6BuwcQ"
      },
      "source": [
        "### Shapes"
      ]
    },
    {
      "cell_type": "code",
      "metadata": {
        "id": "pq0Z6Hfouxra"
      },
      "source": [
        "# config values\n",
        "NUM_OF_DATA = 1000\n",
        "\n",
        "WIDTH = 28\n",
        "HEIGHT = 28  #The above 3 will be used throughout\n",
        "\n",
        "WHITE = (255,255,255)\n",
        "BLACK = (0,0,0)\n",
        "\n",
        "MIN_THICKNESS = 1\n",
        "MAX_THICKNESS = 3\n",
        "###\n",
        "\n",
        "CENTER_X = WIDTH //2\n",
        "CENTER_Y = HEIGHT//2"
      ],
      "execution_count": null,
      "outputs": []
    },
    {
      "cell_type": "code",
      "metadata": {
        "id": "Fwlx_Pu5uz0d"
      },
      "source": [
        "tri = []\n",
        "for _ in range(NUM_OF_DATA):\n",
        "    img = np.zeros((WIDTH, HEIGHT, 3), np.uint8) + 255\n",
        "\n",
        "#triangles\n",
        "    t_height = random.randint(HEIGHT//5, 4*HEIGHT//5)\n",
        "    t_width  = random.randint(WIDTH //5, 4*WIDTH //5)\n",
        "    t_dir    = random.randint(0,1) * 2 - 1\n",
        "    #Random center\n",
        "    x_bias = random.randint(t_width - WIDTH, WIDTH - t_width)//2\n",
        "    y_bias = random.randint(t_height - HEIGHT, HEIGHT - t_height)//2\n",
        "\n",
        "    t_thickness = random.randint(MIN_THICKNESS, MAX_THICKNESS)\n",
        "\n",
        "    vertices = np.array([\n",
        "        [CENTER_X + x_bias, CENTER_Y + t_height//2 * t_dir + y_bias],\n",
        "        [CENTER_X - t_width//2 + x_bias, CENTER_Y - t_height//2 * t_dir + y_bias],\n",
        "        [CENTER_X + t_width//2 + x_bias, CENTER_Y - t_height//2 * t_dir + y_bias]\n",
        "    ])\n",
        "    pts = vertices.reshape((-1, 1, 2))\n",
        "    cv2.polylines(img, [pts], isClosed = True, color = BLACK, thickness = t_thickness)\n",
        "\n",
        "    tri.append([img, (1,0,0)])\n",
        "\n",
        "temptri = img_to_array(tri[0][0])\n"
      ],
      "execution_count": null,
      "outputs": []
    },
    {
      "cell_type": "code",
      "metadata": {
        "id": "_RuhWaLqu6VW"
      },
      "source": [
        "rect = []\n",
        "for _ in range(NUM_OF_DATA):\n",
        "    img = np.zeros((WIDTH, HEIGHT, 3), np.uint8) + 255\n",
        "\n",
        "#rectangles\n",
        "    r_height = random.randint(HEIGHT//5, 4*HEIGHT//5)\n",
        "    r_width  = random.randint(WIDTH //5, 4*WIDTH //5)\n",
        "\n",
        "    #Random center\n",
        "    x_bias = random.randint(r_width - WIDTH, WIDTH - r_width)//2\n",
        "    y_bias = random.randint(r_height - HEIGHT, HEIGHT - r_height)//2\n",
        "\n",
        "    r_thickness = random.randint(MIN_THICKNESS, MAX_THICKNESS)\n",
        "\n",
        "    vertices = np.array([\n",
        "        [CENTER_X + r_width//2 + x_bias, CENTER_Y + r_height//2 + y_bias],\n",
        "        [CENTER_X - r_width//2 + x_bias, CENTER_Y + r_height//2 + y_bias],\n",
        "        [CENTER_X - r_width//2 + x_bias, CENTER_Y - r_height//2 + y_bias],\n",
        "        [CENTER_X + r_width//2 + x_bias, CENTER_Y - r_height//2 + y_bias]\n",
        "    ])\n",
        "    pts = vertices.reshape((-1, 1, 2))\n",
        "    cv2.polylines(img, [pts], isClosed = True, color = BLACK, thickness = r_thickness)\n",
        "\n",
        "    rect.append([img, (0,1,0)])\n",
        "\n",
        "temprectangle = img_to_array(rect[0][0])"
      ],
      "execution_count": null,
      "outputs": []
    },
    {
      "cell_type": "code",
      "metadata": {
        "id": "HFtwAtUhu-MR"
      },
      "source": [
        "circ = []\n",
        "for _ in range(NUM_OF_DATA):\n",
        "    img = np.zeros((WIDTH, HEIGHT, 3), np.uint8) + 255\n",
        "\n",
        "#circles\n",
        "    c_rad = random.randint(max(WIDTH, HEIGHT) // 5, 2 * max(WIDTH, HEIGHT) // 5)\n",
        "\n",
        "    c_thickness = random.randint(MIN_THICKNESS, MAX_THICKNESS)\n",
        "\n",
        "    x_bias = random.randint(c_rad * 2 - WIDTH, WIDTH - c_rad * 2)//2\n",
        "    y_bias = random.randint(c_rad * 2 - HEIGHT, HEIGHT - c_rad * 2)//2\n",
        "\n",
        "    cv2.circle(img,\n",
        "        center = (CENTER_X + x_bias, CENTER_Y + y_bias),\n",
        "        radius = c_rad,\n",
        "        color = BLACK,\n",
        "        thickness = r_thickness\n",
        "    )\n",
        "\n",
        "    circ.append([img, (0,0,1)])\n",
        "\n",
        "tempcircle = img_to_array(circ[0][0])"
      ],
      "execution_count": null,
      "outputs": []
    },
    {
      "cell_type": "code",
      "metadata": {
        "id": "tKeD1GURvCTM",
        "colab": {
          "base_uri": "https://localhost:8080/",
          "height": 284
        },
        "outputId": "a5b5536a-1d73-4c42-8dc8-5471d1195138"
      },
      "source": [
        "import matplotlib.pyplot as plt\n",
        "plt.imshow(tri[3][0])"
      ],
      "execution_count": null,
      "outputs": [
        {
          "output_type": "execute_result",
          "data": {
            "text/plain": [
              "<matplotlib.image.AxesImage at 0x7f264b518790>"
            ]
          },
          "metadata": {},
          "execution_count": 9
        },
        {
          "output_type": "display_data",
          "data": {
            "image/png": "[encoded data removed]",
            "text/plain": [
              "<Figure size 432x288 with 1 Axes>"
            ]
          },
          "metadata": {
            "needs_background": "light"
          }
        }
      ]
    },
    {
      "cell_type": "markdown",
      "metadata": {
        "id": "P-g1Frecurbm"
      },
      "source": [
        "### Sample Code 1"
      ]
    },
    {
      "cell_type": "code",
      "metadata": {
        "id": "T7h5AT0wrF-o"
      },
      "source": [
        "def gaussian_MLP_encoder(x,n_hidden_layer, n_output, keep_prob):\n",
        "  gaussian_params = tf.matmul(h1, wo) + bo\n",
        "  mean = gaussian_params[:,:n_output]\n",
        "  stdev = 1e-6 + tf.nn.softplus(gaussian_params[:, n_output:])\n",
        "\n",
        "  return mean, stdev\n",
        "\n"
      ],
      "execution_count": null,
      "outputs": []
    },
    {
      "cell_type": "code",
      "metadata": {
        "id": "jWtmYZc-rq2F"
      },
      "source": [
        "def autoencoder(x_hat, x, dim_img, dim_z, n_hidden, keep_prob):\n",
        "  mu, sigma = gaussian_MLP_encoder(x_hat, n_hidden, dim_z, keep_prob)\n",
        "  z = mu+sigma*tf.random_normal(tf.shape(mu), 0, 1, dtype = tf.float32)\n",
        "  y=bernoulli_MLP_decoder(z, n_hidden, dim_img, keep_prob)\n",
        "\n",
        "  marginal_likelihood = tf.reduce_sum(x*tf.log(y) + (1-x)*tf.log(1-y),1)\n",
        "  KLD = .5*tf.reduce_sum(tf.square(mu)+tf.square(sigma)-tf.log(1e-8+tf.square(sigma))-1,1)\n",
        "\n",
        "  ELBO = tf.reduce_sum(marginal_likelihood) - tf.reduce_mean(KLD)\n",
        "  loss = -ELBO\n",
        "  return y,z,loss"
      ],
      "execution_count": null,
      "outputs": []
    },
    {
      "cell_type": "markdown",
      "metadata": {
        "id": "HWR5rDIMHW9q"
      },
      "source": [
        "### Sample Code 2"
      ]
    },
    {
      "cell_type": "markdown",
      "metadata": {
        "id": "N7zfF6fcIWpD"
      },
      "source": [
        "Below is just how this would be done if we were using MNIST data, which we are not"
      ]
    },
    {
      "cell_type": "code",
      "metadata": {
        "id": "7W65FWJFIVtp"
      },
      "source": [
        "# Load MNIST\n",
        "(x_train, y_train), (x_test, y_test) = mnist.load_data()\n",
        "\n",
        "#Normalize and reshape ============\n",
        "\n",
        "#Norm.\n",
        "x_train = x_train.astype('float32')\n",
        "x_test = x_test.astype('float32')\n",
        "x_train = x_train / 255\n",
        "x_test = x_test / 255\n",
        "\n",
        "# Reshape \n",
        "img_width  = x_train.shape[1]\n",
        "img_height = x_train.shape[2]\n",
        "num_channels = 1 #MNIST --> grey scale so 1 channel\n",
        "x_train = x_train.reshape(x_train.shape[0], img_height, img_width, num_channels)\n",
        "x_test = x_test.reshape(x_test.shape[0], img_height, img_width, num_channels)\n",
        "input_shape = (img_height, img_width, num_channels)\n",
        "# ========================\n",
        "#View a few images\n",
        "plt.figure(1)\n",
        "plt.subplot(221)\n",
        "plt.imshow(x_train[42][:,:,0])\n",
        "\n",
        "plt.subplot(222)\n",
        "plt.imshow(x_train[420][:,:,0])\n",
        "\n",
        "plt.subplot(223)\n",
        "plt.imshow(x_train[4200][:,:,0])\n",
        "\n",
        "plt.subplot(224)\n",
        "plt.imshow(x_train[42000][:,:,0])\n",
        "plt.show()"
      ],
      "execution_count": null,
      "outputs": []
    },
    {
      "cell_type": "code",
      "metadata": {
        "id": "TcV4pMsvs2KW"
      },
      "source": [
        "latent_dim = 2 # Number of latent dim parameters\n",
        "\n",
        "input_img = Input(shape=input_shape, name='encoder_input')\n",
        "x = Conv2D(32, 3, padding='same', activation='relu')(input_img)\n",
        "x = Conv2D(64, 3, padding='same', activation='relu',strides=(2, 2))(x)\n",
        "x = Conv2D(64, 3, padding='same', activation='relu')(x)\n",
        "x = Conv2D(64, 3, padding='same', activation='relu')(x)\n",
        "\n",
        "conv_shape = K.int_shape(x) #Shape of conv to be provided to decoder\n",
        "#Flatten\n",
        "x = Flatten()(x)\n",
        "x = Dense(32, activation='relu')(x)\n",
        "\n",
        "# Two outputs, for latent mean and log variance (std. dev.)\n",
        "#Use these to sample random variables in latent space to which inputs are mapped. \n",
        "z_mu = Dense(latent_dim, name='latent_mu')(x)   #Mean values of encoded input\n",
        "z_sigma = Dense(latent_dim, name='latent_sigma')(x)  #Std dev. (variance) of encoded input\n",
        "\n",
        "#REPARAMETERIZATION TRICK\n",
        "# Define sampling function to sample from the distribution\n",
        "# Reparameterize sample based on the process defined by Gunderson and Huang\n",
        "# into the shape of: mu + sigma squared x eps\n",
        "#This is to allow gradient descent to allow for gradient estimation accurately. \n",
        "def sample_z(args):\n",
        "  z_mu, z_sigma = args\n",
        "  eps = K.random_normal(shape=(K.shape(z_mu)[0], K.int_shape(z_mu)[1]))\n",
        "  return z_mu + K.exp(z_sigma / 2) * eps\n",
        "\n",
        "# sample vector from the latent distribution\n",
        "# z is the lambda custom layer we are adding for gradient descent calculations\n",
        "  # using mu and variance (sigma)\n",
        "z = Lambda(sample_z, output_shape=(latent_dim, ), name='z')([z_mu, z_sigma])\n",
        "\n",
        "#Z (lambda layer) will be the last layer in the encoder.\n",
        "# Define and summarize encoder model.\n",
        "encoder = Model(input_img, [z_mu, z_sigma, z], name='encoder')\n",
        "print(encoder.summary())\n",
        "\n",
        "# ================= ###########\n",
        "# Decoder\n",
        "#\n",
        "# ================= #################\n",
        "\n",
        "# decoder takes the latent vector as input\n",
        "decoder_input = Input(shape=(latent_dim, ), name='decoder_input')\n",
        "\n",
        "# Need to start with a shape that can be remapped to original image shape as\n",
        "#we want our final utput to be same shape original input.\n",
        "#So, add dense layer with dimensions that can be reshaped to desired output shape\n",
        "x = Dense(conv_shape[1]*conv_shape[2]*conv_shape[3], activation='relu')(decoder_input)\n",
        "# reshape to the shape of last conv. layer in the encoder, so we can \n",
        "x = Reshape((conv_shape[1], conv_shape[2], conv_shape[3]))(x)\n",
        "# upscale (conv2D transpose) back to original shape\n",
        "# use Conv2DTranspose to reverse the conv layers defined in the encoder\n",
        "x = Conv2DTranspose(32, 3, padding='same', activation='relu',strides=(2, 2))(x)\n",
        "#Can add more conv2DTranspose layers, if desired. \n",
        "#Using sigmoid activation\n",
        "x = Conv2DTranspose(num_channels, 3, padding='same', activation='sigmoid', name='decoder_output')(x)\n",
        "\n",
        "# Define and summarize decoder model\n",
        "decoder = Model(decoder_input, x, name='decoder')\n",
        "decoder.summary()\n",
        "\n",
        "# apply the decoder to the latent sample \n",
        "z_decoded = decoder(z)\n",
        "\n",
        "\n",
        "# =========================\n",
        "#Define custom loss\n",
        "#VAE is trained using two loss functions reconstruction loss and KL divergence\n",
        "#Let us add a class to define a custom layer with loss\n",
        "class CustomLayer(keras.layers.Layer):\n",
        "\n",
        "    def vae_loss(self, x, z_decoded):\n",
        "        x = K.flatten(x)\n",
        "        z_decoded = K.flatten(z_decoded)\n",
        "        \n",
        "        # Reconstruction loss (as we used sigmoid activation we can use binarycrossentropy)\n",
        "        recon_loss = keras.metrics.binary_crossentropy(x, z_decoded)\n",
        "        \n",
        "        # KL divergence\n",
        "        kl_loss = -5e-4 * K.mean(1 + z_sigma - K.square(z_mu) - K.exp(z_sigma), axis=-1)\n",
        "        return K.mean(recon_loss + kl_loss)\n",
        "\n",
        "    # add custom loss to the class\n",
        "    def call(self, inputs):\n",
        "        x = inputs[0]\n",
        "        z_decoded = inputs[1]\n",
        "        loss = self.vae_loss(x, z_decoded)\n",
        "        self.add_loss(loss, inputs=inputs)\n",
        "        return x\n",
        "\n",
        "# apply the custom loss to the input images and the decoded latent distribution sample\n",
        "y = CustomLayer()([input_img, z_decoded])\n",
        "# y is basically the original image after encoding input img to mu, sigma, z\n",
        "# and decoding sampled z values.\n",
        "#This will be used as output for vae\n",
        "\n",
        "# =================\n",
        "# VAE \n",
        "# =================\n",
        "vae = Model(input_img, y, name='vae')\n",
        "\n",
        "# Compile VAE\n",
        "vae.compile(optimizer='adam', loss=None)\n",
        "vae.summary()\n",
        "\n",
        "# Train autoencoder\n",
        "vae.fit(x_train, None, epochs = 10, batch_size = 32, validation_split = 0.2)\n",
        "\n",
        "# =================\n",
        "# Visualize results\n",
        "# =================\n",
        "#Visualize inputs mapped to the Latent space\n",
        "#Remember that we have encoded inputs to latent space dimension = 2. \n",
        "#Extract z_mu --> first parameter in the result of encoder prediction representing mean\n",
        "\n",
        "mu, _, _ = encoder.predict(x_test)\n",
        "#Plot dim1 and dim2 for mu\n",
        "plt.figure(figsize=(10, 10))\n",
        "plt.scatter(mu[:, 0], mu[:, 1], c=y_test, cmap='brg')\n",
        "plt.xlabel('dim 1')\n",
        "plt.ylabel('dim 2')\n",
        "plt.colorbar()\n",
        "plt.show()\n",
        "\n",
        "\n",
        "# Visualize images\n",
        "#Single decoded image with random input latent vector (of size 1x2)\n",
        "#Latent space range is about -5 to 5 so pick random values within this range\n",
        "#Try starting with -1, 1 and slowly go up to -1.5,1.5 and see how it morphs from \n",
        "#one image to the other.\n",
        "sample_vector = np.array([[1,-1]])\n",
        "decoded_example = decoder.predict(sample_vector)\n",
        "decoded_example_reshaped = decoded_example.reshape(img_width, img_height)\n",
        "plt.imshow(decoded_example_reshaped)\n",
        "\n",
        "#Let us automate this process by generating multiple images and plotting\n",
        "#Use decoder to generate images by tweaking latent variables from the latent space\n",
        "#Create a grid of defined size with zeros. \n",
        "#Take sample from some defined linear space. In this example range [-4, 4]\n",
        "#Feed it to the decoder and update zeros in the figure with output.\n",
        "\n",
        "\n",
        "n = 20  # generate 15x15 digits\n",
        "figure = np.zeros((img_width * n, img_height * n, num_channels))\n",
        "\n",
        "#Create a Grid of latent variables, to be provided as inputs to decoder.predict\n",
        "#Creating vectors within range -5 to 5 as that seems to be the range in latent space\n",
        "grid_x = np.linspace(-5, 5, n)\n",
        "grid_y = np.linspace(-5, 5, n)[::-1]\n",
        "\n",
        "# decoder for each square in the grid\n",
        "for i, yi in enumerate(grid_y):\n",
        "    for j, xi in enumerate(grid_x):\n",
        "        z_sample = np.array([[xi, yi]])\n",
        "        x_decoded = decoder.predict(z_sample)\n",
        "        digit = x_decoded[0].reshape(img_width, img_height, num_channels)\n",
        "        figure[i * img_width: (i + 1) * img_width,\n",
        "               j * img_height: (j + 1) * img_height] = digit\n",
        "\n",
        "plt.figure(figsize=(10, 10))\n",
        "#Reshape for visualization\n",
        "fig_shape = np.shape(figure)\n",
        "figure = figure.reshape((fig_shape[0], fig_shape[1]))\n",
        "\n",
        "plt.imshow(figure, cmap='gnuplot2')\n",
        "plt.show()  "
      ],
      "execution_count": null,
      "outputs": []
    }
  ]
}