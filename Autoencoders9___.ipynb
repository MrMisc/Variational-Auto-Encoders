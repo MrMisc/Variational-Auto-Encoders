{
  "nbformat": 4,
  "nbformat_minor": 0,
  "metadata": {
    "colab": {
      "name": "Autoencoders.ipynb",
      "provenance": [],
      "toc_visible": true
    },
    "kernelspec": {
      "name": "python3",
      "display_name": "Python 3"
    },
    "language_info": {
      "name": "python"
    }
  },
  "cells": [
    {
      "cell_type": "markdown",
      "metadata": {
        "id": "Oxj1V3xLm0eG"
      },
      "source": [
        "#Testing out VAE on basic shapes | Circles, rectangles, triangles"
      ]
    },
    {
      "cell_type": "markdown",
      "metadata": {
        "id": "radvl2Obm2tb"
      },
      "source": [
        "Autoencoder, generation of shapes, and information rate\n",
        "\n",
        "a. Create a database of sufficient size of 28*28 images with circles, triangles and rectangles at random locations.\n",
        "\n",
        "b. Create a suitable variational autoencoder (VAE) for the data in the database. Motivate the network configuration  (architecture, objective functions, hyperparameters) you select. \n",
        "\n",
        "c. Use your VAE to generate new dataand provide a quantitative measure of the performance of your system\n",
        "\n",
        "d. Replace your VAE with a similar but not identical system that does not use the ELBO. Instead, control the distribution of the latent layer to be iid Gaussian (eg with MMD) and add Gaussian noise with a fixed that variance you set\n",
        "\n",
        "e. Recalling that mutual information is given by $I(X;Y) = E[log\\frac{p(X,Y)}{p(X)p(Y)}]$, estimate the information passing through the latent layer, in bits. Explain what this information represents in terms of your reconstruction. \n",
        "\n",
        "f. Compare the performance of the systems, using suitable attributes and/or extensions."
      ]
    },
    {
      "cell_type": "code",
      "metadata": {
        "id": "qnGb4QW-ksDb",
        "colab": {
          "base_uri": "https://localhost:8080/"
        },
        "outputId": "186bbe15-263e-4597-d7f3-759806013a1e"
      },
      "source": [
        "import tensorflow as tf\n",
        "from tensorflow import keras\n",
        "from tensorflow.keras import layers\n",
        "from tensorflow.keras.preprocessing.image import ImageDataGenerator, load_img, img_to_array\n",
        "from tensorflow.python.ops.numpy_ops import np_config\n",
        "np_config.enable_numpy_behavior()\n",
        "import time\n",
        "\n",
        "\n",
        "from keras import backend as K\n",
        "import matplotlib.pyplot as plt\n",
        "from keras.datasets import mnist\n",
        "from keras.models import Model\n",
        "from keras.layers import Conv2D, Conv2DTranspose, Input, Flatten, Dense, Lambda, Reshape\n",
        "from keras.utils import np_utils\n",
        "#from keras.utils import to_categorical\n",
        "import PIL\n",
        "from PIL import Image\n",
        "from IPython import display\n",
        "import imageio\n",
        "import numpy as np\n",
        "import os\n",
        "import cv2\n",
        "import random\n",
        "\n",
        "%load_ext tensorboard"
      ],
      "execution_count": 9,
      "outputs": [
        {
          "output_type": "stream",
          "name": "stdout",
          "text": [
            "The tensorboard extension is already loaded. To reload it, use:\n",
            "  %reload_ext tensorboard\n"
          ]
        }
      ]
    },
    {
      "cell_type": "markdown",
      "metadata": {
        "id": "xMIpeyVCvcYN"
      },
      "source": [
        "### Encoder network\n",
        "This defines the approximate posterior distribution $q(z|x)$, which takes as input an observation and outputs a set of parameters for specifying the conditional distribution of the latent representation $z$. \n",
        "In this example, simply model the distribution as a diagonal Gaussian, and the network outputs the mean and log-variance parameters of a factorized Gaussian. \n",
        "Output log-variance instead of the variance directly for numerical stability.\n",
        "\n",
        "### Decoder network \n",
        "This defines the conditional distribution of the observation $p(x|z)$, which takes a latent sample $z$ as input and outputs the parameters for a conditional distribution of the observation.\n",
        "Model the latent distribution prior $p(z)$ as a unit Gaussian.\n",
        "\n",
        "### Reparameterization trick\n",
        "To generate a sample $z$ for the decoder during training, you can sample from the latent distribution defined by the parameters outputted by the encoder, given an input observation $x$.\n",
        "However, this sampling operation creates a bottleneck because backpropagation cannot flow through a random node.\n",
        "\n",
        "To address this, use a reparameterization trick.\n",
        "In our example, you approximate $z$ using the decoder parameters and another parameter $\\epsilon$ as follows:\n",
        "\n",
        "$$z = \\mu + \\sigma \\odot \\epsilon$$\n",
        "\n",
        "where $\\mu$ and $\\sigma$ represent the mean and standard deviation of a Gaussian distribution respectively. They can be derived from the decoder output. The $\\epsilon$ can be thought of as a random noise used to maintain stochasticity of $z$. Generate $\\epsilon$ from a standard normal distribution.\n",
        "\n",
        "The latent variable $z$ is now generated by a function of $\\mu$, $\\sigma$ and $\\epsilon$, which would enable the model to backpropagate gradients in the encoder through $\\mu$ and $\\sigma$ respectively, while maintaining stochasticity through $\\epsilon$."
      ]
    },
    {
      "cell_type": "markdown",
      "metadata": {
        "id": "Prt4xZ6BuwcQ"
      },
      "source": [
        "# Generate Shapes"
      ]
    },
    {
      "cell_type": "code",
      "metadata": {
        "id": "pq0Z6Hfouxra"
      },
      "source": [
        "# config values\n",
        "NUM_OF_DATA = 1000\n",
        "\n",
        "WIDTH = 28\n",
        "HEIGHT = 28  #The above 3 will be used throughout\n",
        "\n",
        "WHITE = (255,255,255)\n",
        "BLACK = (0,0,0)\n",
        "\n",
        "MIN_THICKNESS = 1.5\n",
        "MAX_THICKNESS = 1.5\n",
        "###\n",
        "\n",
        "CENTER_X = WIDTH //2\n",
        "CENTER_Y = HEIGHT//2"
      ],
      "execution_count": 2,
      "outputs": []
    },
    {
      "cell_type": "markdown",
      "metadata": {
        "id": "qNKoZ6wvTYSA"
      },
      "source": [
        "## Side Note: \n",
        "\n",
        "Let us make a simple function of what we have done so far in order to quickly generate a separate new dataset of a size of our choosing to test on our VAE later\n",
        "\n",
        "Code outputs sample of 3*given number "
      ]
    },
    {
      "cell_type": "code",
      "metadata": {
        "id": "WJ-udkD6SA6i"
      },
      "source": [
        "def shapeset(NUM):\n",
        "  tri = []\n",
        "  Vary = 3.5  #Vary the size of the shapes\n",
        "  for _ in range(NUM):\n",
        "      img = np.zeros((WIDTH, HEIGHT, 3), np.uint8) + 255\n",
        "\n",
        "\n",
        "  #triangles\n",
        "      t_height = Vary*HEIGHT//5\n",
        "      t_width  =  Vary*WIDTH //5\n",
        "      t_dir    = 1  #This sets the triangle to be right ways up or upside down (-1)\n",
        "      #Random center\n",
        "      x_bias = random.randint(t_width - WIDTH, WIDTH - t_width)//2\n",
        "      y_bias = random.randint(t_height - HEIGHT, HEIGHT - t_height)//2\n",
        "\n",
        "      t_thickness = np.int32(1)\n",
        "\n",
        "      vertices = np.array([\n",
        "          [CENTER_X + x_bias, CENTER_Y + t_height//2 * t_dir + y_bias],\n",
        "          [CENTER_X - t_width//2 + x_bias, CENTER_Y - t_height//2 * t_dir + y_bias],\n",
        "          [CENTER_X + t_width//2 + x_bias, CENTER_Y - t_height//2 * t_dir + y_bias]\n",
        "      ])\n",
        "      pts = vertices.reshape((-1, 1, 2))\n",
        "      cv2.polylines(img,np.int32([pts]), isClosed = True, color = BLACK, thickness = t_thickness)\n",
        "\n",
        "      tri.append([img, np.int(3)]) #label to indicate shape\n",
        "  rect = []\n",
        "  for _ in range(NUM):\n",
        "      img = np.zeros((WIDTH, HEIGHT, 3), np.uint8) + 255\n",
        "\n",
        "  #rectangles\n",
        "      r_height = Vary*HEIGHT//5\n",
        "      r_width  = Vary*WIDTH //5\n",
        "\n",
        "      #Random center\n",
        "      x_bias = random.randint(r_width - WIDTH, WIDTH - r_width)//2\n",
        "      y_bias = random.randint(r_height - HEIGHT, HEIGHT - r_height)//2\n",
        "\n",
        "      r_thickness = np.int32(1)\n",
        "\n",
        "      vertices = np.array([\n",
        "          [CENTER_X + r_width//2 + x_bias, CENTER_Y + r_height//2 + y_bias],\n",
        "          [CENTER_X - r_width//2 + x_bias, CENTER_Y + r_height//2 + y_bias],\n",
        "          [CENTER_X - r_width//2 + x_bias, CENTER_Y - r_height//2 + y_bias],\n",
        "          [CENTER_X + r_width//2 + x_bias, CENTER_Y - r_height//2 + y_bias]\n",
        "      ])\n",
        "      pts = vertices.reshape((-1, 1, 2))\n",
        "      cv2.polylines(img, np.int32([pts]), isClosed = True, color = BLACK, thickness = r_thickness)\n",
        "\n",
        "      rect.append([img, np.int(4)])\n",
        "  circ = []\n",
        "  for _ in range(NUM):\n",
        "      img = np.zeros((WIDTH, HEIGHT, 3), np.uint8) + 255\n",
        "\n",
        "  #circles\n",
        "      c_rad = 13\n",
        "\n",
        "      c_thickness = MIN_THICKNESS/2\n",
        "\n",
        "      x_bias = random.randint(c_rad * 2 - WIDTH, WIDTH - c_rad * 2)//2\n",
        "      y_bias = random.randint(c_rad * 2 - HEIGHT, HEIGHT - c_rad * 2)//2\n",
        "\n",
        "      cv2.circle(img,\n",
        "          center = (CENTER_X + x_bias, CENTER_Y + y_bias),\n",
        "          radius = c_rad,\n",
        "          color = BLACK,\n",
        "          thickness = r_thickness\n",
        "      )\n",
        "\n",
        "      circ.append([img,np.int(0)])\n",
        "\n",
        "  tot_data = []\n",
        "  for t in tri: tot_data.append([cv2.cvtColor(t[0],cv2.COLOR_BGR2GRAY),t[1]])\n",
        "  for r in rect: tot_data.append([cv2.cvtColor(r[0],cv2.COLOR_BGR2GRAY),r[1]])\n",
        "  for c in circ: tot_data.append([cv2.cvtColor(c[0],cv2.COLOR_BGR2GRAY),c[1]])\n",
        "  random.shuffle(tot_data)\n",
        "\n",
        "  data_x = []\n",
        "  data_y = []\n",
        "  for d in tot_data:\n",
        "      data_x.append(d[0])\n",
        "      data_y.append(d[1])\n",
        "\n",
        "  return [data_x, data_y]"
      ],
      "execution_count": 10,
      "outputs": []
    },
    {
      "cell_type": "markdown",
      "metadata": {
        "id": "HVmDNpy0u370"
      },
      "source": [
        "## Plot data example"
      ]
    },
    {
      "cell_type": "code",
      "metadata": {
        "colab": {
          "base_uri": "https://localhost:8080/",
          "height": 284
        },
        "id": "YtPQAulATMrH",
        "outputId": "5f0ef98a-e19e-4459-a4e5-e72ef7cd4fb6"
      },
      "source": [
        "tryoutdata_x = shapeset(10)[0] #First component is the x data to plot, second component is just the category, so only want to plot the first component\n",
        "plt.imshow(tryoutdata_x[0]) #print out the first dataset of 10 generated"
      ],
      "execution_count": 16,
      "outputs": [
        {
          "output_type": "execute_result",
          "data": {
            "text/plain": [
              "<matplotlib.image.AxesImage at 0x7f7dc53a9950>"
            ]
          },
          "metadata": {},
          "execution_count": 16
        },
        {
          "output_type": "display_data",
          "data": {
            "image/png": "[encoded data removed]",
            "text/plain": [
              "<Figure size 432x288 with 1 Axes>"
            ]
          },
          "metadata": {
            "needs_background": "light"
          }
        }
      ]
    },
    {
      "cell_type": "markdown",
      "metadata": {
        "id": "07hh6YTsu6-d"
      },
      "source": [
        "### Set number of categories in data.\n",
        "\n"
      ]
    },
    {
      "cell_type": "code",
      "metadata": {
        "id": "Gq6ZqucY0MkF"
      },
      "source": [
        "number_of_classes = 3"
      ],
      "execution_count": 17,
      "outputs": []
    },
    {
      "cell_type": "markdown",
      "metadata": {
        "id": "7N_LdgQZvFgs"
      },
      "source": [
        "Small sample example of 300"
      ]
    },
    {
      "cell_type": "markdown",
      "metadata": {
        "id": "l-tESB1e9dy9"
      },
      "source": [
        "Let us take a number of images from the dataset of images we have (essentially without the groundstruth labels), and run them through a VAE"
      ]
    },
    {
      "cell_type": "markdown",
      "metadata": {
        "id": "Tm1osPGiTbSZ"
      },
      "source": [
        "## Pre-definitions"
      ]
    },
    {
      "cell_type": "markdown",
      "metadata": {
        "id": "6EVRJIM3URhF"
      },
      "source": [
        "### Sampling function pre-emptively made"
      ]
    },
    {
      "cell_type": "code",
      "metadata": {
        "id": "Je27-B8lUUEm"
      },
      "source": [
        "def sample_z(args):\n",
        "  z_mu, z_sigma = args\n",
        "  eps = K.random_normal(shape=(K.shape(z_mu)[0], K.int_shape(z_mu)[1]))  #This term makes back-propagation possible!\n",
        "  return z_mu + K.exp(z_sigma / 2) * eps\n"
      ],
      "execution_count": null,
      "outputs": []
    },
    {
      "cell_type": "code",
      "metadata": {
        "id": "ibJSwRJZLjZT"
      },
      "source": [
        "def log_normal_pdf(sample, mean, logvar, raxis=1):\n",
        "  log2pi = tf.math.log(2. * np.pi)\n",
        "  return tf.reduce_sum(\n",
        "      -.5 * ((sample - mean) ** 2. * tf.exp(-logvar) + logvar + log2pi),\n",
        "      axis=raxis)"
      ],
      "execution_count": null,
      "outputs": []
    },
    {
      "cell_type": "markdown",
      "metadata": {
        "id": "ZocwERc_65ef"
      },
      "source": [
        "# **VAE Implementation**"
      ]
    },
    {
      "cell_type": "markdown",
      "metadata": {
        "id": "ip6psJXa7FPa"
      },
      "source": [
        "Consider defining a model differently as CVAE subclass"
      ]
    },
    {
      "cell_type": "code",
      "metadata": {
        "id": "J-wyemZ4Yz1d"
      },
      "source": [
        "\n",
        "\n",
        "WIDTH = 28\n",
        "HEIGHT = 28  #The above 3 will be used throughout\n",
        "\n",
        "WHITE = (255,255,255)\n",
        "BLACK = (0,0,0)\n",
        "\n",
        "MIN_THICKNESS = 1\n",
        "MAX_THICKNESS = 1\n",
        "###\n",
        "\n",
        "CENTER_X = WIDTH //2\n",
        "CENTER_Y = HEIGHT//2\n",
        "\n",
        "\n",
        "#### Set dataset size here!!!!\n",
        "TRAIN = 10000\n",
        "TEST = 13500 - TRAIN\n",
        "\n",
        "data_x , data_y = shapeset(np.int((TRAIN+TEST)/3))\n",
        "\n",
        "\n",
        "TRAIN_images = np.array(data_x[:TRAIN]).reshape(TRAIN, 28, 28, 1)\n",
        "y = np.array(data_y[:TRAIN])+0\n",
        "TEST_images = np.array(data_x[TRAIN:TEST+TRAIN]).reshape(TEST, 28, 28, 1)\n",
        "yt = np.array(data_y[TRAIN:TEST+TRAIN])+0\n",
        "\n",
        "def preprocess_images(images):\n",
        "  images = images.reshape((images.shape[0], 28, 28, 1)) / 255.\n",
        "  return np.where(images > .5, 1.0, 0.0).astype('float32')\n",
        "\n",
        "TRAIN_images = preprocess_images(TRAIN_images)\n",
        "TEST_images = preprocess_images(TEST_images)"
      ],
      "execution_count": 126,
      "outputs": []
    },
    {
      "cell_type": "code",
      "metadata": {
        "id": "zaj5xnPUY6M6"
      },
      "source": [
        "batch_size = 30\n",
        "\n",
        "train_dataset = (tf.data.Dataset.from_tensor_slices(TRAIN_images)\n",
        "                 .batch(batch_size))\n",
        "test_dataset = (tf.data.Dataset.from_tensor_slices(TEST_images)\n",
        "                .batch(batch_size))"
      ],
      "execution_count": 127,
      "outputs": []
    },
    {
      "cell_type": "markdown",
      "metadata": {
        "id": "8kDm4p_uZBDg"
      },
      "source": [
        "## Define model"
      ]
    },
    {
      "cell_type": "code",
      "metadata": {
        "id": "Td-zgAx1ZAiY"
      },
      "source": [
        "class CVAE(tf.keras.Model):\n",
        "  \"\"\"Convolutional variational autoencoder.\"\"\"\n",
        "\n",
        "  def __init__(self, latent_dim):\n",
        "    super(CVAE, self).__init__()\n",
        "    self.latent_dim = latent_dim\n",
        "    self.encoder = tf.keras.Sequential(\n",
        "        [\n",
        "            tf.keras.layers.InputLayer(input_shape=(28, 28, 1)),\n",
        "            tf.keras.layers.Conv2D(\n",
        "                filters=32, kernel_size=3, strides=(2, 2), activation='relu'),\n",
        "            tf.keras.layers.Conv2D(\n",
        "                filters=64, kernel_size=3, strides=(2, 2), activation='relu'),\n",
        "            tf.keras.layers.Flatten(),\n",
        "            # No activation\n",
        "            tf.keras.layers.Dense(latent_dim + latent_dim),\n",
        "        ]\n",
        "    )\n",
        "\n",
        "    self.decoder = tf.keras.Sequential(\n",
        "        [\n",
        "            tf.keras.layers.InputLayer(input_shape=(latent_dim,)),\n",
        "            tf.keras.layers.Dense(units=7*7*32, activation=tf.nn.relu),\n",
        "            tf.keras.layers.Reshape(target_shape=(7, 7, 32)),\n",
        "            tf.keras.layers.Conv2DTranspose(\n",
        "                filters=64, kernel_size=3, strides=2, padding='same',\n",
        "                activation='relu'),\n",
        "            tf.keras.layers.Conv2DTranspose(\n",
        "                filters=32, kernel_size=3, strides=2, padding='same',\n",
        "                activation='relu'),\n",
        "            # No activation\n",
        "            tf.keras.layers.Conv2DTranspose(\n",
        "                filters=1, kernel_size=3, strides=1, padding='same'),\n",
        "        ]\n",
        "    )\n",
        "\n",
        "  @tf.function\n",
        "  def sample(self, eps=None):\n",
        "    if eps is None:\n",
        "      eps = tf.random.normal(shape=(100, self.latent_dim))\n",
        "    return self.decode(eps, apply_sigmoid=True)\n",
        "\n",
        "  def encode(self, x):\n",
        "    mean, logvar = tf.split(self.encoder(x), num_or_size_splits=2, axis=1)\n",
        "    return mean, logvar\n",
        "\n",
        "  def reparameterize(self, mean, logvar):\n",
        "    eps = tf.random.normal(shape=mean.shape)\n",
        "    return eps * tf.exp(logvar * .5) + mean\n",
        "\n",
        "  def decode(self, z, apply_sigmoid=False):\n",
        "    logits = self.decoder(z)\n",
        "    if apply_sigmoid:\n",
        "      probs = tf.sigmoid(logits)\n",
        "      return probs\n",
        "    return logits"
      ],
      "execution_count": 128,
      "outputs": []
    },
    {
      "cell_type": "markdown",
      "metadata": {
        "id": "umMA3Tj0ZFYE"
      },
      "source": [
        "## Define the custom functions"
      ]
    },
    {
      "cell_type": "code",
      "metadata": {
        "id": "1opTaVWEZE1e"
      },
      "source": [
        "optimizer = tf.keras.optimizers.Adam(1e-4)\n",
        "\n",
        "\n",
        "def log_normal_pdf(sample, mean, logvar, raxis=1):\n",
        "  log2pi = tf.math.log(2. * np.pi)\n",
        "  return tf.reduce_sum(\n",
        "      -.5 * ((sample - mean) ** 2. * tf.exp(-logvar) + logvar + log2pi),\n",
        "      axis=raxis)\n",
        "\n",
        "\n",
        "def compute_loss(model, x):\n",
        "  mean, logvar = model.encode(x)\n",
        "  z = model.reparameterize(mean, logvar)\n",
        "  x_logit = model.decode(z)\n",
        "  cross_ent = tf.nn.sigmoid_cross_entropy_with_logits(logits=x_logit, labels=x)\n",
        "  logpx_z = -tf.reduce_sum(cross_ent, axis=[1, 2, 3])\n",
        "  logpz = log_normal_pdf(z, 0., 0.)\n",
        "  logqz_x = log_normal_pdf(z, mean, logvar)\n",
        "  return -tf.reduce_mean(logpx_z + logpz - logqz_x)\n",
        "\n",
        "\n",
        "@tf.function\n",
        "def train_step(model, x, optimizer):\n",
        "  \"\"\"Executes one training step and returns the loss.\n",
        "\n",
        "  This function computes the loss and gradients, and uses the latter to\n",
        "  update the model's parameters.\n",
        "  \"\"\"\n",
        "  with tf.GradientTape() as tape:\n",
        "    loss = compute_loss(model, x)\n",
        "  gradients = tape.gradient(loss, model.trainable_variables)\n",
        "  optimizer.apply_gradients(zip(gradients, model.trainable_variables))"
      ],
      "execution_count": 129,
      "outputs": []
    },
    {
      "cell_type": "markdown",
      "metadata": {
        "id": "bSaAjZKvZKDK"
      },
      "source": [
        "## Run and generate data"
      ]
    },
    {
      "cell_type": "code",
      "metadata": {
        "id": "cTs2PYX7ZIq-"
      },
      "source": [
        "epochs = 30\n",
        "# set the dimensionality of the latent space to a plane for visualization later\n",
        "latent_dim = 2\n",
        "num_examples_to_generate = 16\n",
        "\n",
        "# keeping the random vector constant for generation (prediction) so\n",
        "# it will be easier to see the improvement.\n",
        "random_vector_for_generation = tf.random.normal(\n",
        "    shape=[num_examples_to_generate, latent_dim])\n",
        "model = CVAE(latent_dim)"
      ],
      "execution_count": 130,
      "outputs": []
    },
    {
      "cell_type": "code",
      "metadata": {
        "id": "0ZdG0mHtZN4q"
      },
      "source": [
        "def generate_and_save_images(model, epoch, test_sample):\n",
        "  mean, logvar = model.encode(test_sample)\n",
        "  z = model.reparameterize(mean, logvar)\n",
        "  predictions = model.sample(z)\n",
        "  fig = plt.figure(figsize=(4, 4))\n",
        "\n",
        "  for i in range(predictions.shape[0]):\n",
        "    plt.subplot(4, 4, i + 1)\n",
        "    plt.imshow(predictions[i, :, :, 0], cmap='gray')\n",
        "    plt.axis('off')\n",
        "\n",
        "  # tight_layout minimizes the overlap between 2 sub-plots\n",
        "  plt.savefig('image_at_epoch_{:04d}.png'.format(epoch))\n",
        "  plt.show()"
      ],
      "execution_count": 131,
      "outputs": []
    },
    {
      "cell_type": "code",
      "metadata": {
        "id": "IyGNExMdZP2j"
      },
      "source": [
        "# Pick a sample of the test set for generating output images\n",
        "assert batch_size >= num_examples_to_generate\n",
        "for test_batch in test_dataset.take(1):\n",
        "  test_sample = test_batch[0:num_examples_to_generate, :, :, :]"
      ],
      "execution_count": 132,
      "outputs": []
    },
    {
      "cell_type": "code",
      "metadata": {
        "colab": {
          "base_uri": "https://localhost:8080/",
          "height": 267
        },
        "id": "by5QaHmCZRJ2",
        "outputId": "5b0ee22a-b030-41e2-d130-7b8386079e8c"
      },
      "source": [
        "generate_and_save_images(model, 0, test_sample)\n",
        "\n",
        "for epoch in range(1, epochs + 1):\n",
        "  start_time = time.time()\n",
        "  for train_x in train_dataset:\n",
        "    train_step(model, train_x, optimizer)\n",
        "  end_time = time.time()\n",
        "\n",
        "  loss = tf.keras.metrics.Mean()\n",
        "  for test_x in test_dataset:\n",
        "    loss(compute_loss(model, test_x))\n",
        "  elbo = -loss.result()\n",
        "  display.clear_output(wait=False)\n",
        "  print('Epoch: {}, Test set ELBO: {}, time elapse for current epoch: {}'\n",
        "        .format(epoch, elbo, end_time - start_time))\n",
        "  generate_and_save_images(model, epoch, test_sample)"
      ],
      "execution_count": null,
      "outputs": [
        {
          "output_type": "stream",
          "name": "stdout",
          "text": [
            "Epoch: 22, Test set ELBO: -108.26400756835938, time elapse for current epoch: 13.85942792892456\n"
          ]
        },
        {
          "output_type": "display_data",
          "data": {
            "image/png": "[encoded data removed]",
            "text/plain": [
              "<Figure size 288x288 with 16 Axes>"
            ]
          },
          "metadata": {
            "needs_background": "light"
          }
        }
      ]
    },
    {
      "cell_type": "code",
      "metadata": {
        "id": "KksHTFi_x0nn"
      },
      "source": [
        "# import os.path\n",
        "# if os.path.isfile('models/VAE_Shapes.h5') is False:\n",
        "#   model.save('models/VAE_Shapes.h5')"
      ],
      "execution_count": null,
      "outputs": []
    },
    {
      "cell_type": "markdown",
      "metadata": {
        "id": "gvPmEUibc26C"
      },
      "source": [
        "# **Latent Vector Mapping**\n",
        "\n",
        "Done for training data and test data"
      ]
    },
    {
      "cell_type": "code",
      "metadata": {
        "colab": {
          "base_uri": "https://localhost:8080/",
          "height": 610
        },
        "id": "m1Q3EDN5G4wm",
        "outputId": "dacc59a7-54ac-4861-a581-42babe285d2e"
      },
      "source": [
        "def plot_label_clusters(vae, data, labels):\n",
        "    # display a 2D plot of the digit classes in the latent space\n",
        "    z_mean, _ = vae.encode(data)\n",
        "    plt.figure(figsize=(12, 10))\n",
        "    plt.scatter(z_mean[:, 0], z_mean[:, 1], c=labels)\n",
        "    plt.colorbar()\n",
        "    plt.xlabel(\"z[0]\")\n",
        "    plt.ylabel(\"z[1]\")\n",
        "    plt.show()\n",
        "\n",
        "plot_label_clusters(model, x, y[:1000])"
      ],
      "execution_count": null,
      "outputs": [
        {
          "output_type": "display_data",
          "data": {
            "image/png": "[encoded data removed]",
            "text/plain": [
              "<Figure size 864x720 with 2 Axes>"
            ]
          },
          "metadata": {
            "needs_background": "light"
          }
        }
      ]
    },
    {
      "cell_type": "code",
      "metadata": {
        "id": "jBFfKct8CxJa"
      },
      "source": [
        "xplot, yplot=shapeset(2000)\n",
        "\n",
        "plot_label_clusters(model, xplot, yplot)"
      ],
      "execution_count": null,
      "outputs": []
    },
    {
      "cell_type": "markdown",
      "metadata": {
        "id": "9RtyyCJ2XxRk"
      },
      "source": [
        "# **Generate random shapes** | Experimenting with decoder for random vectors of latent dimension"
      ]
    },
    {
      "cell_type": "code",
      "metadata": {
        "id": "osY94v6AFY3A"
      },
      "source": [
        "input = np.array([-600,380])\n",
        "# model.decode(input.reshape(-1,latent_dim))"
      ],
      "execution_count": 67,
      "outputs": []
    },
    {
      "cell_type": "code",
      "metadata": {
        "colab": {
          "base_uri": "https://localhost:8080/"
        },
        "id": "VvDU0GhVLxSz",
        "outputId": "62c17228-3648-48dd-ddf1-7e092ba27e30"
      },
      "source": [
        "np.array([-600,380]) - [100,200]"
      ],
      "execution_count": 118,
      "outputs": [
        {
          "output_type": "execute_result",
          "data": {
            "text/plain": [
              "array([-700,  180])"
            ]
          },
          "metadata": {},
          "execution_count": 118
        }
      ]
    },
    {
      "cell_type": "code",
      "metadata": {
        "colab": {
          "base_uri": "https://localhost:8080/"
        },
        "id": "mDMRKIp6INYN",
        "outputId": "8dd6805e-346d-4f34-b023-201e065ae301"
      },
      "source": [
        "input = tf.random.uniform([1,2],-400,400)\n",
        "input2 = input - [100,200]\n",
        "print(input, input2)"
      ],
      "execution_count": 119,
      "outputs": [
        {
          "output_type": "stream",
          "name": "stdout",
          "text": [
            "tf.Tensor([[-250.38643   127.613525]], shape=(1, 2), dtype=float32) tf.Tensor([[-350.3864    -72.386475]], shape=(1, 2), dtype=float32)\n"
          ]
        }
      ]
    },
    {
      "cell_type": "code",
      "metadata": {
        "colab": {
          "base_uri": "https://localhost:8080/",
          "height": 284
        },
        "id": "67URuvEXHQFx",
        "outputId": "4efe467b-2f46-4560-c951-2b298fcb76d6"
      },
      "source": [
        "plt.imshow(model.decode(input.reshape(-1,latent_dim)).reshape(28,28), cmap = \"gray\")"
      ],
      "execution_count": 100,
      "outputs": [
        {
          "output_type": "execute_result",
          "data": {
            "text/plain": [
              "<matplotlib.image.AxesImage at 0x7f7db8842f90>"
            ]
          },
          "metadata": {},
          "execution_count": 100
        },
        {
          "output_type": "display_data",
          "data": {
            "image/png": "[encoded data removed]",
            "text/plain": [
              "<Figure size 432x288 with 1 Axes>"
            ]
          },
          "metadata": {
            "needs_background": "light"
          }
        }
      ]
    },
    {
      "cell_type": "code",
      "metadata": {
        "id": "BcCgPZ4cJg9A"
      },
      "source": [
        "def generate(model):\n",
        "  input = tf.random.uniform([1,2],-400,400) - [250,-200]\n",
        "  return model.decode(input.reshape(-1,latent_dim)).reshape(28,28)"
      ],
      "execution_count": null,
      "outputs": []
    },
    {
      "cell_type": "code",
      "metadata": {
        "id": "YJWOlqVxK98S"
      },
      "source": [
        "plt.figure()\n",
        "\n",
        "#subplot(r,c) provide the no. of rows and columns\n",
        "n=5\n",
        "f, axarr = plt.subplots(n,n) \n",
        "\n",
        "for i in range(n):\n",
        "    for j in range(n):\n",
        "        axarr[i, j].imshow(generate(model),cmap = \"gray\")"
      ],
      "execution_count": null,
      "outputs": []
    },
    {
      "cell_type": "markdown",
      "metadata": {
        "id": "_l4Wg5izGzS8"
      },
      "source": [
        "# **VAE_MMD Implementation**\n",
        "\n",
        "We are now trying to replace the ELBO used for the classic VAE architecture, and influencing the latent layer to be Gaussian by having it be trained with a Maximum Mean Discrepancy MMD loss function"
      ]
    },
    {
      "cell_type": "markdown",
      "metadata": {
        "id": "aETTuFiOh5H9"
      },
      "source": [
        "## Model"
      ]
    },
    {
      "cell_type": "markdown",
      "metadata": {
        "id": "uQZW098Sh7BU"
      },
      "source": [
        "Same, model but with slight changes to accomodate MMD "
      ]
    },
    {
      "cell_type": "code",
      "metadata": {
        "id": "LRZ3h-hCh4Ea"
      },
      "source": [
        "class CVAE_MMD(tf.keras.Model):\n",
        "  \"\"\"Convolutional variational autoencoder.\"\"\"\n",
        "\n",
        "  def __init__(self, latent_dim):\n",
        "    super(CVAE_MMD, self).__init__()\n",
        "    self.latent_dim = latent_dim\n",
        "    self.encoder = tf.keras.Sequential(\n",
        "        [\n",
        "            tf.keras.layers.InputLayer(input_shape=(28, 28, 1)),\n",
        "            tf.keras.layers.Conv2D(\n",
        "                filters=32, kernel_size=3, strides=(2, 2), activation='relu'),\n",
        "            tf.keras.layers.Conv2D(\n",
        "                filters=64, kernel_size=3, strides=(2, 2), activation='relu'),\n",
        "            tf.keras.layers.Flatten(),\n",
        "            # No activation\n",
        "            tf.keras.layers.Dense(latent_dim + latent_dim),\n",
        "        ]\n",
        "    )\n",
        "\n",
        "    self.decoder = tf.keras.Sequential(\n",
        "        [\n",
        "            tf.keras.layers.InputLayer(input_shape=(latent_dim,)),\n",
        "            tf.keras.layers.Dense(units=7*7*32, activation=tf.nn.relu),\n",
        "            tf.keras.layers.Reshape(target_shape=(7, 7, 32)),\n",
        "            tf.keras.layers.Conv2DTranspose(\n",
        "                filters=64, kernel_size=3, strides=2, padding='same',\n",
        "                activation='relu'),\n",
        "            tf.keras.layers.Conv2DTranspose(\n",
        "                filters=32, kernel_size=3, strides=2, padding='same',\n",
        "                activation='relu'),\n",
        "            # No activation\n",
        "            tf.keras.layers.Conv2DTranspose(\n",
        "                filters=1, kernel_size=3, strides=1, padding='same'),\n",
        "        ]\n",
        "    )\n",
        "\n",
        "  @tf.function\n",
        "  def sample(self, eps=None):\n",
        "    if eps is None:\n",
        "      eps = tf.random.normal(shape=(100, self.latent_dim))\n",
        "    return self.decode(eps, apply_sigmoid=True)\n",
        "\n",
        "  def encode(self, x):\n",
        "    mean, logvar = tf.split(self.encoder(x), num_or_size_splits=2, axis=1)\n",
        "    return mean, logvar\n",
        "\n",
        "  def reparameterize(self, mean, logvar):\n",
        "    eps = tf.random.normal(shape=mean.shape)\n",
        "    return eps * tf.exp(logvar * .5) + mean\n",
        "\n",
        "  def decode(self, z, apply_sigmoid=False):\n",
        "    logits = self.decoder(z)\n",
        "    if apply_sigmoid:\n",
        "      probs = tf.sigmoid(logits)\n",
        "      return probs\n",
        "    return logits"
      ],
      "execution_count": null,
      "outputs": []
    },
    {
      "cell_type": "markdown",
      "metadata": {
        "id": "h3rgYC-FiCie"
      },
      "source": [
        "## Set the variance of noise of your choosing"
      ]
    },
    {
      "cell_type": "code",
      "metadata": {
        "id": "YlSOM1oYiCP1"
      },
      "source": [
        "var=2"
      ],
      "execution_count": null,
      "outputs": []
    },
    {
      "cell_type": "markdown",
      "metadata": {
        "id": "07mBVL_JiIRF"
      },
      "source": [
        "## MMD loss caclulation function"
      ]
    },
    {
      "cell_type": "code",
      "metadata": {
        "id": "wIJWP0fxIor6"
      },
      "source": [
        "def compute_kernel(x, y):\n",
        "    x_size = tf.shape(x)[0]\n",
        "    y_size = tf.shape(y)[0]\n",
        "    dim = tf.shape(x)[1]\n",
        "    tiled_x = tf.tile(tf.reshape(x, tf.stack([x_size, 1, dim])), tf.stack([1, y_size, 1]))\n",
        "    tiled_y = tf.tile(tf.reshape(y, tf.stack([1, y_size, dim])), tf.stack([x_size, 1, 1]))\n",
        "    return tf.exp(-tf.reduce_mean(tf.square(tiled_x - tiled_y), axis=2) / tf.cast(dim, tf.float32))\n",
        "\n",
        "def compute_mmd(x, y):\n",
        "    x_kernel = compute_kernel(x, x)\n",
        "    y_kernel = compute_kernel(y, y)\n",
        "    xy_kernel = compute_kernel(x, y)\n",
        "    return tf.reduce_mean(x_kernel) + tf.reduce_mean(y_kernel) - 2 * tf.reduce_mean(xy_kernel)"
      ],
      "execution_count": null,
      "outputs": []
    },
    {
      "cell_type": "markdown",
      "metadata": {
        "id": "nBVTuJu-iQWs"
      },
      "source": [
        "### Define custom functions again"
      ]
    },
    {
      "cell_type": "code",
      "metadata": {
        "id": "thKGsTRFiOKW"
      },
      "source": [
        "optimizer = tf.keras.optimizers.Adam(1e-4)\n",
        "\n",
        "\n",
        "def log_normal_pdf(sample, mean, logvar, raxis=1):\n",
        "  log2pi = tf.math.log(2. * np.pi)\n",
        "  return tf.reduce_sum(\n",
        "      -.5 * ((sample - mean) ** 2. * tf.exp(-logvar) + logvar + log2pi),\n",
        "      axis=raxis)\n",
        "\n",
        "\n",
        "def compute_loss(model, x, batch_size=batch_size, var=var):\n",
        "  mean, logvar = model.encode(x)\n",
        "  x_logit = model.decode(mean)\n",
        "  true_samples = tf.random.normal(tf.stack([batch_size, latent_dim]), stddev=var**.5)  \n",
        "  mmd_loss = compute_mmd(true_samples,mean)\n",
        "  loss_nll = tf.reduce_mean(tf.square(x - x_logit))\n",
        "  return tf.reduce_sum(mmd_loss+loss_nll)\n",
        "\n",
        "\n",
        "@tf.function\n",
        "def train_step(model, x, optimizer):\n",
        "  \"\"\"Executes one training step and returns the loss.\n",
        "\n",
        "  This function computes the loss and gradients, and uses the latter to\n",
        "  update the model's parameters.\n",
        "  \"\"\"\n",
        "  with tf.GradientTape() as tape:\n",
        "    loss = compute_loss(model, x)\n",
        "  gradients = tape.gradient(loss, model.trainable_variables)\n",
        "  optimizer.apply_gradients(zip(gradients, model.trainable_variables))"
      ],
      "execution_count": null,
      "outputs": []
    },
    {
      "cell_type": "markdown",
      "metadata": {
        "id": "_1iyU47aieDP"
      },
      "source": [
        "## Training"
      ]
    },
    {
      "cell_type": "code",
      "metadata": {
        "id": "BUHtv5-kif7j"
      },
      "source": [
        "epochs = 50\n",
        "# set the dimensionality of the latent space to a plane for visualization later\n",
        "latent_dim = 2\n",
        "num_examples_to_generate = 16\n",
        "\n",
        "# keeping the random vector constant for generation (prediction) so\n",
        "# it will be easier to see the improvement.\n",
        "random_vector_for_generation = tf.random.normal(\n",
        "    shape=[num_examples_to_generate, latent_dim])\n",
        "model = CVAE(latent_dim)\n",
        "model_mmd = CVAE_MMD(latent_dim)"
      ],
      "execution_count": null,
      "outputs": []
    },
    {
      "cell_type": "code",
      "metadata": {
        "id": "e5lCMVldihop"
      },
      "source": [
        "def generate_and_save_images(model, epoch, test_sample):\n",
        "  mean, logvar = model.encode(test_sample)\n",
        "  z = model.reparameterize(mean, logvar)\n",
        "  predictions = model.sample(z)\n",
        "  fig = plt.figure(figsize=(4, 4))\n",
        "\n",
        "  for i in range(predictions.shape[0]):\n",
        "    plt.subplot(4, 4, i + 1)\n",
        "    plt.imshow(predictions[i, :, :, 0], cmap='gray')\n",
        "    plt.axis('off')\n",
        "\n",
        "  # tight_layout minimizes the overlap between 2 sub-plots\n",
        "  plt.savefig('image_at_epoch_{:04d}.png'.format(epoch))\n",
        "  plt.show()"
      ],
      "execution_count": null,
      "outputs": []
    },
    {
      "cell_type": "code",
      "metadata": {
        "id": "41sB4DJvijMl"
      },
      "source": [
        "# Pick a sample of the test set for generating output images\n",
        "assert batch_size >= num_examples_to_generate\n",
        "for test_batch in test_dataset.take(1):\n",
        "  test_sample = test_batch[0:num_examples_to_generate, :, :, :]"
      ],
      "execution_count": null,
      "outputs": []
    },
    {
      "cell_type": "markdown",
      "metadata": {
        "id": "e0Fmc3FHilIX"
      },
      "source": [
        "### Generate as we train"
      ]
    },
    {
      "cell_type": "code",
      "metadata": {
        "colab": {
          "base_uri": "https://localhost:8080/",
          "height": 267
        },
        "id": "GOAcD2Rqikjx",
        "outputId": "d6071796-b40f-4eb0-e07e-26cb70e5ba79"
      },
      "source": [
        "# generate_and_save_images(model, 0, test_sample)\n",
        "generate_and_save_images(model_mmd, 0, test_sample)\n",
        "\n",
        "for epoch in range(1, epochs + 1):\n",
        "  start_time = time.time()\n",
        "  for train_x in train_dataset:\n",
        "    # train_step(model, train_x, optimizer)\n",
        "    train_step(model_mmd, train_x, optimizer)\n",
        "  end_time = time.time()\n",
        "\n",
        "  loss = tf.keras.metrics.Mean()\n",
        "  for test_x in test_dataset:\n",
        "    # loss(compute_loss(model, test_x))\n",
        "    loss(compute_loss(model_mmd, test_x))\n",
        "  elbo = -loss.result()\n",
        "  display.clear_output(wait=False)\n",
        "  print('Epoch: {}, Test set ELBO: {}, time elapse for current epoch: {}'\n",
        "        .format(epoch, elbo, end_time - start_time))\n",
        "  # generate_and_save_images(model, epoch, test_sample)\n",
        "  generate_and_save_images(model_mmd, epoch, test_sample)"
      ],
      "execution_count": null,
      "outputs": [
        {
          "output_type": "stream",
          "name": "stdout",
          "text": [
            "Epoch: 50, Test set ELBO: -0.08263613283634186, time elapse for current epoch: 14.865506410598755\n"
          ]
        },
        {
          "output_type": "display_data",
          "data": {
            "image/png": "[encoded data removed]",
            "text/plain": [
              "<Figure size 288x288 with 16 Axes>"
            ]
          },
          "metadata": {
            "needs_background": "light"
          }
        }
      ]
    },
    {
      "cell_type": "code",
      "metadata": {
        "colab": {
          "base_uri": "https://localhost:8080/",
          "height": 610
        },
        "id": "sfkvo46Dc57p",
        "outputId": "48e01d11-8f80-42b8-ffcb-04db1676ef5d"
      },
      "source": [
        "def plot_label_clusters(vae, data, labels):\n",
        "    # display a 2D plot of the digit classes in the latent space\n",
        "    z_mean = vae.encoder.predict(data)\n",
        "    plt.figure(figsize=(12, 10))\n",
        "    plt.scatter(z_mean[:, 0], z_mean[:, 1], c=labels)\n",
        "    plt.colorbar()\n",
        "    plt.xlabel(\"z[0]\")\n",
        "    plt.ylabel(\"z[1]\")\n",
        "    plt.show()\n",
        "\n",
        "plot_label_clusters(model_mmd, xt, yt[:350])"
      ],
      "execution_count": null,
      "outputs": [
        {
          "output_type": "display_data",
          "data": {
            "image/png": "[encoded data removed]",
            "text/plain": [
              "<Figure size 864x720 with 2 Axes>"
            ]
          },
          "metadata": {
            "needs_background": "light"
          }
        }
      ]
    }
  ]
}